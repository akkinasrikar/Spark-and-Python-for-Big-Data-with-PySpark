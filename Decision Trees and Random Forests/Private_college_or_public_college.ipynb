{
  "nbformat": 4,
  "nbformat_minor": 0,
  "metadata": {
    "colab": {
      "name": "Private college or public college.ipynb",
      "provenance": [],
      "collapsed_sections": []
    },
    "kernelspec": {
      "name": "python3",
      "display_name": "Python 3"
    },
    "language_info": {
      "name": "python"
    }
  },
  "cells": [
    {
      "cell_type": "code",
      "metadata": {
        "colab": {
          "base_uri": "https://localhost:8080/"
        },
        "id": "TUr9FTXxCRER",
        "outputId": "da3d89e2-2d4f-4bd0-e6a7-624f9c466b6b"
      },
      "source": [
        "!pip install pyspark\n",
        "!pip install pyarrow\n",
        "!pip install -q findspark\n",
        "from pyspark.sql import SparkSession\n",
        "spark=SparkSession.builder.appName(\"trees\").getOrCreate()"
      ],
      "execution_count": 29,
      "outputs": [
        {
          "output_type": "stream",
          "text": [
            "Requirement already satisfied: pyspark in /usr/local/lib/python3.7/dist-packages (3.1.2)\n",
            "Requirement already satisfied: py4j==0.10.9 in /usr/local/lib/python3.7/dist-packages (from pyspark) (0.10.9)\n",
            "Requirement already satisfied: pyarrow in /usr/local/lib/python3.7/dist-packages (3.0.0)\n",
            "Requirement already satisfied: numpy>=1.16.6 in /usr/local/lib/python3.7/dist-packages (from pyarrow) (1.19.5)\n"
          ],
          "name": "stdout"
        }
      ]
    },
    {
      "cell_type": "code",
      "metadata": {
        "id": "MWsCC62VCS61"
      },
      "source": [
        "data=spark.read.csv(\"/content/College.csv\",inferSchema=True,header=True)"
      ],
      "execution_count": 2,
      "outputs": []
    },
    {
      "cell_type": "code",
      "metadata": {
        "colab": {
          "base_uri": "https://localhost:8080/"
        },
        "id": "vWMdiilRD1Ni",
        "outputId": "7932f61f-1dc7-4fd6-b641-eee85c4c0d62"
      },
      "source": [
        "data.printSchema()"
      ],
      "execution_count": 3,
      "outputs": [
        {
          "output_type": "stream",
          "text": [
            "root\n",
            " |-- School: string (nullable = true)\n",
            " |-- Private: string (nullable = true)\n",
            " |-- Apps: integer (nullable = true)\n",
            " |-- Accept: integer (nullable = true)\n",
            " |-- Enroll: integer (nullable = true)\n",
            " |-- Top10perc: integer (nullable = true)\n",
            " |-- Top25perc: integer (nullable = true)\n",
            " |-- F_Undergrad: integer (nullable = true)\n",
            " |-- P_Undergrad: integer (nullable = true)\n",
            " |-- Outstate: integer (nullable = true)\n",
            " |-- Room_Board: integer (nullable = true)\n",
            " |-- Books: integer (nullable = true)\n",
            " |-- Personal: integer (nullable = true)\n",
            " |-- PhD: integer (nullable = true)\n",
            " |-- Terminal: integer (nullable = true)\n",
            " |-- S_F_Ratio: double (nullable = true)\n",
            " |-- perc_alumni: integer (nullable = true)\n",
            " |-- Expend: integer (nullable = true)\n",
            " |-- Grad_Rate: integer (nullable = true)\n",
            "\n"
          ],
          "name": "stdout"
        }
      ]
    },
    {
      "cell_type": "code",
      "metadata": {
        "id": "SeLHSkOxD4g0"
      },
      "source": [
        "from pyspark.ml.feature import VectorAssembler"
      ],
      "execution_count": 4,
      "outputs": []
    },
    {
      "cell_type": "code",
      "metadata": {
        "colab": {
          "base_uri": "https://localhost:8080/"
        },
        "id": "GNNGT_UhELsG",
        "outputId": "dc715b8c-734c-4ec0-88d8-09bc266233ac"
      },
      "source": [
        "data.columns"
      ],
      "execution_count": 5,
      "outputs": [
        {
          "output_type": "execute_result",
          "data": {
            "text/plain": [
              "['School',\n",
              " 'Private',\n",
              " 'Apps',\n",
              " 'Accept',\n",
              " 'Enroll',\n",
              " 'Top10perc',\n",
              " 'Top25perc',\n",
              " 'F_Undergrad',\n",
              " 'P_Undergrad',\n",
              " 'Outstate',\n",
              " 'Room_Board',\n",
              " 'Books',\n",
              " 'Personal',\n",
              " 'PhD',\n",
              " 'Terminal',\n",
              " 'S_F_Ratio',\n",
              " 'perc_alumni',\n",
              " 'Expend',\n",
              " 'Grad_Rate']"
            ]
          },
          "metadata": {
            "tags": []
          },
          "execution_count": 5
        }
      ]
    },
    {
      "cell_type": "code",
      "metadata": {
        "id": "rsaXaJ_qENes"
      },
      "source": [
        "assembler=VectorAssembler(inputCols= ['Apps',\n",
        "                                      'Accept',\n",
        "                                      'Enroll',\n",
        "                                      'Top10perc',\n",
        "                                      'Top25perc',\n",
        "                                      'F_Undergrad',\n",
        "                                      'P_Undergrad',\n",
        "                                      'Outstate',\n",
        "                                      'Room_Board',\n",
        "                                      'Books',\n",
        "                                      'Personal',\n",
        "                                      'PhD',\n",
        "                                      'Terminal',\n",
        "                                      'S_F_Ratio',\n",
        "                                      'perc_alumni',\n",
        "                                      'Expend',\n",
        "                                      'Grad_Rate'],outputCol=\"features\")"
      ],
      "execution_count": 6,
      "outputs": []
    },
    {
      "cell_type": "code",
      "metadata": {
        "id": "mk14J3wDEhG_"
      },
      "source": [
        "output=assembler.transform(data)"
      ],
      "execution_count": 7,
      "outputs": []
    },
    {
      "cell_type": "code",
      "metadata": {
        "id": "dH-ovC0vEl73"
      },
      "source": [
        "from pyspark.ml.feature import StringIndexer"
      ],
      "execution_count": 8,
      "outputs": []
    },
    {
      "cell_type": "code",
      "metadata": {
        "id": "du_gX04lEtkV"
      },
      "source": [
        "indexer=StringIndexer(inputCol=\"Private\",outputCol=\"Privateindex\")"
      ],
      "execution_count": 10,
      "outputs": []
    },
    {
      "cell_type": "code",
      "metadata": {
        "id": "5ru2xR--E3a0"
      },
      "source": [
        "output_fixed=indexer.fit(output).transform(output)"
      ],
      "execution_count": 11,
      "outputs": []
    },
    {
      "cell_type": "code",
      "metadata": {
        "colab": {
          "base_uri": "https://localhost:8080/"
        },
        "id": "t3DtYjfxFCoO",
        "outputId": "b8a3747c-b585-4698-c586-a736ba4e5709"
      },
      "source": [
        "output_fixed.show()"
      ],
      "execution_count": 13,
      "outputs": [
        {
          "output_type": "stream",
          "text": [
            "+--------------------+-------+----+------+------+---------+---------+-----------+-----------+--------+----------+-----+--------+---+--------+---------+-----------+------+---------+--------------------+------------+\n",
            "|              School|Private|Apps|Accept|Enroll|Top10perc|Top25perc|F_Undergrad|P_Undergrad|Outstate|Room_Board|Books|Personal|PhD|Terminal|S_F_Ratio|perc_alumni|Expend|Grad_Rate|            features|Privateindex|\n",
            "+--------------------+-------+----+------+------+---------+---------+-----------+-----------+--------+----------+-----+--------+---+--------+---------+-----------+------+---------+--------------------+------------+\n",
            "|Abilene Christian...|    Yes|1660|  1232|   721|       23|       52|       2885|        537|    7440|      3300|  450|    2200| 70|      78|     18.1|         12|  7041|       60|[1660.0,1232.0,72...|         0.0|\n",
            "|  Adelphi University|    Yes|2186|  1924|   512|       16|       29|       2683|       1227|   12280|      6450|  750|    1500| 29|      30|     12.2|         16| 10527|       56|[2186.0,1924.0,51...|         0.0|\n",
            "|      Adrian College|    Yes|1428|  1097|   336|       22|       50|       1036|         99|   11250|      3750|  400|    1165| 53|      66|     12.9|         30|  8735|       54|[1428.0,1097.0,33...|         0.0|\n",
            "| Agnes Scott College|    Yes| 417|   349|   137|       60|       89|        510|         63|   12960|      5450|  450|     875| 92|      97|      7.7|         37| 19016|       59|[417.0,349.0,137....|         0.0|\n",
            "|Alaska Pacific Un...|    Yes| 193|   146|    55|       16|       44|        249|        869|    7560|      4120|  800|    1500| 76|      72|     11.9|          2| 10922|       15|[193.0,146.0,55.0...|         0.0|\n",
            "|   Albertson College|    Yes| 587|   479|   158|       38|       62|        678|         41|   13500|      3335|  500|     675| 67|      73|      9.4|         11|  9727|       55|[587.0,479.0,158....|         0.0|\n",
            "|Albertus Magnus C...|    Yes| 353|   340|   103|       17|       45|        416|        230|   13290|      5720|  500|    1500| 90|      93|     11.5|         26|  8861|       63|[353.0,340.0,103....|         0.0|\n",
            "|      Albion College|    Yes|1899|  1720|   489|       37|       68|       1594|         32|   13868|      4826|  450|     850| 89|     100|     13.7|         37| 11487|       73|[1899.0,1720.0,48...|         0.0|\n",
            "|    Albright College|    Yes|1038|   839|   227|       30|       63|        973|        306|   15595|      4400|  300|     500| 79|      84|     11.3|         23| 11644|       80|[1038.0,839.0,227...|         0.0|\n",
            "|Alderson-Broaddus...|    Yes| 582|   498|   172|       21|       44|        799|         78|   10468|      3380|  660|    1800| 40|      41|     11.5|         15|  8991|       52|[582.0,498.0,172....|         0.0|\n",
            "|   Alfred University|    Yes|1732|  1425|   472|       37|       75|       1830|        110|   16548|      5406|  500|     600| 82|      88|     11.3|         31| 10932|       73|[1732.0,1425.0,47...|         0.0|\n",
            "|   Allegheny College|    Yes|2652|  1900|   484|       44|       77|       1707|         44|   17080|      4440|  400|     600| 73|      91|      9.9|         41| 11711|       76|[2652.0,1900.0,48...|         0.0|\n",
            "|Allentown Coll. o...|    Yes|1179|   780|   290|       38|       64|       1130|        638|    9690|      4785|  600|    1000| 60|      84|     13.3|         21|  7940|       74|[1179.0,780.0,290...|         0.0|\n",
            "|        Alma College|    Yes|1267|  1080|   385|       44|       73|       1306|         28|   12572|      4552|  400|     400| 79|      87|     15.3|         32|  9305|       68|[1267.0,1080.0,38...|         0.0|\n",
            "|     Alverno College|    Yes| 494|   313|   157|       23|       46|       1317|       1235|    8352|      3640|  650|    2449| 36|      69|     11.1|         26|  8127|       55|[494.0,313.0,157....|         0.0|\n",
            "|American Internat...|    Yes|1420|  1093|   220|        9|       22|       1018|        287|    8700|      4780|  450|    1400| 78|      84|     14.7|         19|  7355|       69|[1420.0,1093.0,22...|         0.0|\n",
            "|     Amherst College|    Yes|4302|   992|   418|       83|       96|       1593|          5|   19760|      5300|  660|    1598| 93|      98|      8.4|         63| 21424|      100|[4302.0,992.0,418...|         0.0|\n",
            "| Anderson University|    Yes|1216|   908|   423|       19|       40|       1819|        281|   10100|      3520|  550|    1100| 48|      61|     12.1|         14|  7994|       59|[1216.0,908.0,423...|         0.0|\n",
            "|  Andrews University|    Yes|1130|   704|   322|       14|       23|       1586|        326|    9996|      3090|  900|    1320| 62|      66|     11.5|         18| 10908|       46|[1130.0,704.0,322...|         0.0|\n",
            "|Angelo State Univ...|     No|3540|  2001|  1016|       24|       54|       4190|       1512|    5130|      3592|  500|    2000| 60|      62|     23.1|          5|  4010|       34|[3540.0,2001.0,10...|         1.0|\n",
            "+--------------------+-------+----+------+------+---------+---------+-----------+-----------+--------+----------+-----+--------+---+--------+---------+-----------+------+---------+--------------------+------------+\n",
            "only showing top 20 rows\n",
            "\n"
          ],
          "name": "stdout"
        }
      ]
    },
    {
      "cell_type": "code",
      "metadata": {
        "id": "-DlA4ImbFE2O"
      },
      "source": [
        "final_data=output_fixed.select([\"features\",\"Privateindex\"])"
      ],
      "execution_count": 14,
      "outputs": []
    },
    {
      "cell_type": "code",
      "metadata": {
        "colab": {
          "base_uri": "https://localhost:8080/"
        },
        "id": "w5Lnj0j7FTAP",
        "outputId": "3185211e-e620-4047-872c-05bd3641010c"
      },
      "source": [
        "final_data.show()"
      ],
      "execution_count": 15,
      "outputs": [
        {
          "output_type": "stream",
          "text": [
            "+--------------------+------------+\n",
            "|            features|Privateindex|\n",
            "+--------------------+------------+\n",
            "|[1660.0,1232.0,72...|         0.0|\n",
            "|[2186.0,1924.0,51...|         0.0|\n",
            "|[1428.0,1097.0,33...|         0.0|\n",
            "|[417.0,349.0,137....|         0.0|\n",
            "|[193.0,146.0,55.0...|         0.0|\n",
            "|[587.0,479.0,158....|         0.0|\n",
            "|[353.0,340.0,103....|         0.0|\n",
            "|[1899.0,1720.0,48...|         0.0|\n",
            "|[1038.0,839.0,227...|         0.0|\n",
            "|[582.0,498.0,172....|         0.0|\n",
            "|[1732.0,1425.0,47...|         0.0|\n",
            "|[2652.0,1900.0,48...|         0.0|\n",
            "|[1179.0,780.0,290...|         0.0|\n",
            "|[1267.0,1080.0,38...|         0.0|\n",
            "|[494.0,313.0,157....|         0.0|\n",
            "|[1420.0,1093.0,22...|         0.0|\n",
            "|[4302.0,992.0,418...|         0.0|\n",
            "|[1216.0,908.0,423...|         0.0|\n",
            "|[1130.0,704.0,322...|         0.0|\n",
            "|[3540.0,2001.0,10...|         1.0|\n",
            "+--------------------+------------+\n",
            "only showing top 20 rows\n",
            "\n"
          ],
          "name": "stdout"
        }
      ]
    },
    {
      "cell_type": "code",
      "metadata": {
        "id": "650HGpPgFVD5"
      },
      "source": [
        "train_data,test_data=final_data.randomSplit([0.7,0.3])"
      ],
      "execution_count": 16,
      "outputs": []
    },
    {
      "cell_type": "code",
      "metadata": {
        "id": "5bvt2UrOFa6U"
      },
      "source": [
        "from pyspark.ml.classification import DecisionTreeClassifier,GBTClassifier,RandomForestClassifier"
      ],
      "execution_count": 17,
      "outputs": []
    },
    {
      "cell_type": "code",
      "metadata": {
        "id": "ROI3wyEEFkHj"
      },
      "source": [
        "dtc=DecisionTreeClassifier(labelCol=\"Privateindex\",featuresCol=\"features\")\n",
        "rfc=RandomForestClassifier(labelCol=\"Privateindex\",featuresCol=\"features\",numTrees=200)\n",
        "gbt=GBTClassifier(labelCol=\"Privateindex\",featuresCol=\"features\")"
      ],
      "execution_count": 32,
      "outputs": []
    },
    {
      "cell_type": "code",
      "metadata": {
        "id": "BsBiYapOF7Ip"
      },
      "source": [
        "dtc_model=dtc.fit(train_data)\n",
        "rfc_model=rfc.fit(train_data)\n",
        "gbt_model=gbt.fit(train_data)"
      ],
      "execution_count": 33,
      "outputs": []
    },
    {
      "cell_type": "code",
      "metadata": {
        "id": "DZvuQcpHF7cr"
      },
      "source": [
        "dtc_preds=dtc_model.transform(test_data)\n",
        "rfc_preds=rfc_model.transform(test_data)\n",
        "gbt_preds=gbt_model.transform(test_data)"
      ],
      "execution_count": 34,
      "outputs": []
    },
    {
      "cell_type": "code",
      "metadata": {
        "id": "4aoGZJwiGDBb"
      },
      "source": [
        "from pyspark.ml.evaluation import MulticlassClassificationEvaluator,BinaryClassificationEvaluator"
      ],
      "execution_count": 35,
      "outputs": []
    },
    {
      "cell_type": "code",
      "metadata": {
        "id": "GxbR0-IVGvka"
      },
      "source": [
        "evaluator=BinaryClassificationEvaluator(labelCol=\"Privateindex\")"
      ],
      "execution_count": 36,
      "outputs": []
    },
    {
      "cell_type": "code",
      "metadata": {
        "colab": {
          "base_uri": "https://localhost:8080/"
        },
        "id": "m-NyUtZ1GyJm",
        "outputId": "096aca95-a54c-48c1-9da5-762a6a586d48"
      },
      "source": [
        "print(\"DTC ACC: \",evaluator.evaluate(dtc_preds))\n",
        "print(\"RFC ACC: \",evaluator.evaluate(rfc_preds))\n",
        "print(\"GBT ACC: \",evaluator.evaluate(gbt_preds))"
      ],
      "execution_count": 37,
      "outputs": [
        {
          "output_type": "stream",
          "text": [
            "DTC ACC:  0.9133040935672514\n",
            "RFC ACC:  0.97007797270955\n",
            "GBT ACC:  0.9310428849902533\n"
          ],
          "name": "stdout"
        }
      ]
    },
    {
      "cell_type": "code",
      "metadata": {
        "id": "jsFVfPJ2G6rj"
      },
      "source": [
        "evaluator_gbt=BinaryClassificationEvaluator(labelCol=\"Privateindex\",rawPredictionCol=\"prediction\" )"
      ],
      "execution_count": 38,
      "outputs": []
    },
    {
      "cell_type": "code",
      "metadata": {
        "colab": {
          "base_uri": "https://localhost:8080/"
        },
        "id": "uGQn_OmwHquB",
        "outputId": "eae22d32-7205-4ea4-89ee-0f4deecc36f5"
      },
      "source": [
        "print(\"GBT ACC: \",evaluator_gbt.evaluate(gbt_preds))"
      ],
      "execution_count": 39,
      "outputs": [
        {
          "output_type": "stream",
          "text": [
            "GBT ACC:  0.877046783625731\n"
          ],
          "name": "stdout"
        }
      ]
    },
    {
      "cell_type": "code",
      "metadata": {
        "id": "z8HRviTXIT15"
      },
      "source": [
        ""
      ],
      "execution_count": null,
      "outputs": []
    }
  ]
}