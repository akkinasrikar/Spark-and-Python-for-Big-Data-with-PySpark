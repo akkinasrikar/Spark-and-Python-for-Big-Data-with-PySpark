{
  "nbformat": 4,
  "nbformat_minor": 0,
  "metadata": {
    "colab": {
      "name": "Decision Trees.ipynb",
      "provenance": [],
      "collapsed_sections": []
    },
    "kernelspec": {
      "name": "python3",
      "display_name": "Python 3"
    },
    "language_info": {
      "name": "python"
    }
  },
  "cells": [
    {
      "cell_type": "code",
      "metadata": {
        "colab": {
          "base_uri": "https://localhost:8080/"
        },
        "id": "mxeo2V05z82f",
        "outputId": "4bde10b7-9582-4fc1-c20d-c5e266654686"
      },
      "source": [
        "!pip install pyspark\n",
        "!pip install pyarrow\n",
        "!pip install -q findspark"
      ],
      "execution_count": 1,
      "outputs": [
        {
          "output_type": "stream",
          "text": [
            "Requirement already satisfied: pyspark in /usr/local/lib/python3.7/dist-packages (3.1.2)\n",
            "Requirement already satisfied: py4j==0.10.9 in /usr/local/lib/python3.7/dist-packages (from pyspark) (0.10.9)\n",
            "Requirement already satisfied: pyarrow in /usr/local/lib/python3.7/dist-packages (3.0.0)\n",
            "Requirement already satisfied: numpy>=1.16.6 in /usr/local/lib/python3.7/dist-packages (from pyarrow) (1.19.5)\n"
          ],
          "name": "stdout"
        }
      ]
    },
    {
      "cell_type": "code",
      "metadata": {
        "id": "wb6ydiSu5w61"
      },
      "source": [
        "from pyspark.sql import SparkSession\n",
        "spark=SparkSession.builder.appName(\"trees\").getOrCreate()"
      ],
      "execution_count": 2,
      "outputs": []
    },
    {
      "cell_type": "code",
      "metadata": {
        "id": "MMK6cPeJ50mK"
      },
      "source": [
        "from pyspark.ml.classification import RandomForestClassifier,GBTClassifier,DecisionTreeClassifier"
      ],
      "execution_count": 3,
      "outputs": []
    },
    {
      "cell_type": "code",
      "metadata": {
        "id": "HqTPBwAr88Mp"
      },
      "source": [
        "data=spark.read.format(\"libsvm\").load(\"/content/sample_libsvm_data.txt\")"
      ],
      "execution_count": 4,
      "outputs": []
    },
    {
      "cell_type": "code",
      "metadata": {
        "colab": {
          "base_uri": "https://localhost:8080/"
        },
        "id": "RSq3WOpa-UJ1",
        "outputId": "5baf774a-bbb3-421f-db80-8b5779f361b5"
      },
      "source": [
        "data.show()"
      ],
      "execution_count": 5,
      "outputs": [
        {
          "output_type": "stream",
          "text": [
            "+-----+--------------------+\n",
            "|label|            features|\n",
            "+-----+--------------------+\n",
            "|  0.0|(692,[127,128,129...|\n",
            "|  1.0|(692,[158,159,160...|\n",
            "|  1.0|(692,[124,125,126...|\n",
            "|  1.0|(692,[152,153,154...|\n",
            "|  1.0|(692,[151,152,153...|\n",
            "|  0.0|(692,[129,130,131...|\n",
            "|  1.0|(692,[158,159,160...|\n",
            "|  1.0|(692,[99,100,101,...|\n",
            "|  0.0|(692,[154,155,156...|\n",
            "|  0.0|(692,[127,128,129...|\n",
            "|  1.0|(692,[154,155,156...|\n",
            "|  0.0|(692,[153,154,155...|\n",
            "|  0.0|(692,[151,152,153...|\n",
            "|  1.0|(692,[129,130,131...|\n",
            "|  0.0|(692,[154,155,156...|\n",
            "|  1.0|(692,[150,151,152...|\n",
            "|  0.0|(692,[124,125,126...|\n",
            "|  0.0|(692,[152,153,154...|\n",
            "|  1.0|(692,[97,98,99,12...|\n",
            "|  1.0|(692,[124,125,126...|\n",
            "+-----+--------------------+\n",
            "only showing top 20 rows\n",
            "\n"
          ],
          "name": "stdout"
        }
      ]
    },
    {
      "cell_type": "code",
      "metadata": {
        "id": "CTCVsmfP-Uq-"
      },
      "source": [
        "train_data,test_data=data.randomSplit([0.7,0.3])"
      ],
      "execution_count": 6,
      "outputs": []
    },
    {
      "cell_type": "code",
      "metadata": {
        "id": "DbUw6-Gj-oCN"
      },
      "source": [
        "dtc=DecisionTreeClassifier()\n",
        "rfc=RandomForestClassifier(numTrees=100)\n",
        "gbt=GBTClassifier()"
      ],
      "execution_count": 7,
      "outputs": []
    },
    {
      "cell_type": "code",
      "metadata": {
        "id": "oXZWBlww-56m"
      },
      "source": [
        "from pyspark.ml import Pipeline"
      ],
      "execution_count": 8,
      "outputs": []
    },
    {
      "cell_type": "code",
      "metadata": {
        "id": "ZEAvypLR-9L4"
      },
      "source": [
        "dtc_model=dtc.fit(train_data)\n",
        "rfc_model=rfc.fit(train_data)\n",
        "gbt_model=gbt.fit(train_data)"
      ],
      "execution_count": 9,
      "outputs": []
    },
    {
      "cell_type": "code",
      "metadata": {
        "id": "2uVLN0CW_aEL"
      },
      "source": [
        "dtc_preds=dtc_model.transform(test_data)\n",
        "rfc_preds=rfc_model.transform(test_data)\n",
        "gbt_preds=gbt_model.transform(test_data)"
      ],
      "execution_count": 10,
      "outputs": []
    },
    {
      "cell_type": "code",
      "metadata": {
        "colab": {
          "base_uri": "https://localhost:8080/"
        },
        "id": "vxw4w7JH_p0_",
        "outputId": "47b22611-dbb5-4836-de20-867b98545560"
      },
      "source": [
        "dtc_preds.show()"
      ],
      "execution_count": 11,
      "outputs": [
        {
          "output_type": "stream",
          "text": [
            "+-----+--------------------+-------------+-----------+----------+\n",
            "|label|            features|rawPrediction|probability|prediction|\n",
            "+-----+--------------------+-------------+-----------+----------+\n",
            "|  0.0|(692,[98,99,100,1...|    [0.0,1.0]|  [0.0,1.0]|       1.0|\n",
            "|  0.0|(692,[121,122,123...|   [32.0,0.0]|  [1.0,0.0]|       0.0|\n",
            "|  0.0|(692,[122,123,124...|   [32.0,0.0]|  [1.0,0.0]|       0.0|\n",
            "|  0.0|(692,[123,124,125...|   [32.0,0.0]|  [1.0,0.0]|       0.0|\n",
            "|  0.0|(692,[126,127,128...|   [32.0,0.0]|  [1.0,0.0]|       0.0|\n",
            "|  0.0|(692,[126,127,128...|   [32.0,0.0]|  [1.0,0.0]|       0.0|\n",
            "|  0.0|(692,[126,127,128...|   [32.0,0.0]|  [1.0,0.0]|       0.0|\n",
            "|  0.0|(692,[153,154,155...|   [32.0,0.0]|  [1.0,0.0]|       0.0|\n",
            "|  0.0|(692,[153,154,155...|   [32.0,0.0]|  [1.0,0.0]|       0.0|\n",
            "|  0.0|(692,[154,155,156...|   [32.0,0.0]|  [1.0,0.0]|       0.0|\n",
            "|  0.0|(692,[234,235,237...|   [32.0,0.0]|  [1.0,0.0]|       0.0|\n",
            "|  1.0|(692,[119,120,121...|   [0.0,32.0]|  [0.0,1.0]|       1.0|\n",
            "|  1.0|(692,[123,124,125...|   [0.0,32.0]|  [0.0,1.0]|       1.0|\n",
            "|  1.0|(692,[123,124,125...|   [0.0,32.0]|  [0.0,1.0]|       1.0|\n",
            "|  1.0|(692,[124,125,126...|   [0.0,32.0]|  [0.0,1.0]|       1.0|\n",
            "|  1.0|(692,[125,126,127...|   [0.0,32.0]|  [0.0,1.0]|       1.0|\n",
            "|  1.0|(692,[125,126,153...|   [0.0,32.0]|  [0.0,1.0]|       1.0|\n",
            "|  1.0|(692,[126,127,128...|   [0.0,32.0]|  [0.0,1.0]|       1.0|\n",
            "|  1.0|(692,[126,127,128...|   [0.0,32.0]|  [0.0,1.0]|       1.0|\n",
            "|  1.0|(692,[126,127,128...|   [0.0,32.0]|  [0.0,1.0]|       1.0|\n",
            "+-----+--------------------+-------------+-----------+----------+\n",
            "only showing top 20 rows\n",
            "\n"
          ],
          "name": "stdout"
        }
      ]
    },
    {
      "cell_type": "code",
      "metadata": {
        "colab": {
          "base_uri": "https://localhost:8080/"
        },
        "id": "kA4Nnrt2_tBE",
        "outputId": "7df8528b-c6a5-4c62-9772-48b29ea8457b"
      },
      "source": [
        "gbt_preds.show()"
      ],
      "execution_count": 12,
      "outputs": [
        {
          "output_type": "stream",
          "text": [
            "+-----+--------------------+--------------------+--------------------+----------+\n",
            "|label|            features|       rawPrediction|         probability|prediction|\n",
            "+-----+--------------------+--------------------+--------------------+----------+\n",
            "|  0.0|(692,[98,99,100,1...|[-0.6472244504525...|[0.21510074015259...|       1.0|\n",
            "|  0.0|(692,[121,122,123...|[1.54350200272498...|[0.95635347857270...|       0.0|\n",
            "|  0.0|(692,[122,123,124...|[1.54350200272498...|[0.95635347857270...|       0.0|\n",
            "|  0.0|(692,[123,124,125...|[1.54350200272498...|[0.95635347857270...|       0.0|\n",
            "|  0.0|(692,[126,127,128...|[1.27174561349051...|[0.92713503073351...|       0.0|\n",
            "|  0.0|(692,[126,127,128...|[1.54350200272498...|[0.95635347857270...|       0.0|\n",
            "|  0.0|(692,[126,127,128...|[1.54350200272498...|[0.95635347857270...|       0.0|\n",
            "|  0.0|(692,[153,154,155...|[1.54350200272498...|[0.95635347857270...|       0.0|\n",
            "|  0.0|(692,[153,154,155...|[1.54350200272498...|[0.95635347857270...|       0.0|\n",
            "|  0.0|(692,[154,155,156...|[1.54350200272498...|[0.95635347857270...|       0.0|\n",
            "|  0.0|(692,[234,235,237...|[1.34455519405615...|[0.93638100661515...|       0.0|\n",
            "|  1.0|(692,[119,120,121...|[-1.5435020027249...|[0.04364652142729...|       1.0|\n",
            "|  1.0|(692,[123,124,125...|[-1.5435020027249...|[0.04364652142729...|       1.0|\n",
            "|  1.0|(692,[123,124,125...|[-1.5435020027249...|[0.04364652142729...|       1.0|\n",
            "|  1.0|(692,[124,125,126...|[-1.5435020027249...|[0.04364652142729...|       1.0|\n",
            "|  1.0|(692,[125,126,127...|[-1.5435020027249...|[0.04364652142729...|       1.0|\n",
            "|  1.0|(692,[125,126,153...|[-1.5435020027249...|[0.04364652142729...|       1.0|\n",
            "|  1.0|(692,[126,127,128...|[-1.5435020027249...|[0.04364652142729...|       1.0|\n",
            "|  1.0|(692,[126,127,128...|[-1.5435020027249...|[0.04364652142729...|       1.0|\n",
            "|  1.0|(692,[126,127,128...|[-1.5435020027249...|[0.04364652142729...|       1.0|\n",
            "+-----+--------------------+--------------------+--------------------+----------+\n",
            "only showing top 20 rows\n",
            "\n"
          ],
          "name": "stdout"
        }
      ]
    },
    {
      "cell_type": "code",
      "metadata": {
        "id": "9SbcPiQS_yKA"
      },
      "source": [
        "from pyspark.ml.evaluation import MulticlassClassificationEvaluator "
      ],
      "execution_count": 13,
      "outputs": []
    },
    {
      "cell_type": "code",
      "metadata": {
        "id": "zPiOIQw0AYlX"
      },
      "source": [
        "evaluator=MulticlassClassificationEvaluator(metricName=\"accuracy\")"
      ],
      "execution_count": 14,
      "outputs": []
    },
    {
      "cell_type": "code",
      "metadata": {
        "colab": {
          "base_uri": "https://localhost:8080/"
        },
        "id": "53UD5PhSAqIu",
        "outputId": "39ce3280-fac7-405d-c719-66b21252f52a"
      },
      "source": [
        "print(\"DTC ACC: \",evaluator.evaluate(dtc_preds))\n",
        "print(\"RFC ACC: \",evaluator.evaluate(rfc_preds))\n",
        "print(\"GBT ACC: \",evaluator.evaluate(gbt_preds))"
      ],
      "execution_count": 15,
      "outputs": [
        {
          "output_type": "stream",
          "text": [
            "DTC ACC:  0.9714285714285714\n",
            "RFC ACC:  1.0\n",
            "GBT ACC:  0.9714285714285714\n"
          ],
          "name": "stdout"
        }
      ]
    },
    {
      "cell_type": "code",
      "metadata": {
        "colab": {
          "base_uri": "https://localhost:8080/"
        },
        "id": "HwBCvpVmA6aE",
        "outputId": "da07c44b-fe35-446c-a1e1-eeb9b2ae1cfe"
      },
      "source": [
        "rfc_model.featureImportances"
      ],
      "execution_count": 16,
      "outputs": [
        {
          "output_type": "execute_result",
          "data": {
            "text/plain": [
              "SparseVector(692, {100: 0.0007, 125: 0.0002, 154: 0.0005, 160: 0.0004, 181: 0.0008, 183: 0.0005, 184: 0.0013, 207: 0.0021, 208: 0.0013, 216: 0.0072, 217: 0.0004, 234: 0.0062, 235: 0.0205, 243: 0.0074, 244: 0.0154, 259: 0.0039, 262: 0.016, 263: 0.0156, 264: 0.0021, 267: 0.0006, 271: 0.0097, 272: 0.0128, 273: 0.0005, 290: 0.0082, 291: 0.0005, 293: 0.0007, 295: 0.0023, 296: 0.0082, 299: 0.0016, 300: 0.0217, 314: 0.0011, 316: 0.0007, 317: 0.0077, 321: 0.0005, 322: 0.0068, 323: 0.0183, 328: 0.0144, 344: 0.0032, 345: 0.0076, 347: 0.0007, 349: 0.003, 350: 0.0168, 351: 0.0188, 352: 0.0012, 355: 0.0016, 357: 0.0059, 359: 0.0025, 370: 0.0027, 371: 0.0004, 373: 0.0113, 374: 0.0028, 375: 0.0007, 377: 0.0163, 378: 0.0366, 379: 0.0095, 385: 0.0069, 398: 0.0015, 400: 0.0155, 402: 0.0007, 404: 0.0007, 405: 0.0084, 406: 0.0317, 407: 0.01, 410: 0.0019, 411: 0.001, 415: 0.0014, 425: 0.0016, 426: 0.0004, 427: 0.0158, 428: 0.0084, 429: 0.0063, 431: 0.0005, 432: 0.0034, 433: 0.0141, 434: 0.0269, 435: 0.0211, 438: 0.0003, 440: 0.0158, 442: 0.0068, 443: 0.0025, 455: 0.0358, 456: 0.0093, 457: 0.002, 460: 0.0006, 461: 0.0177, 462: 0.0234, 463: 0.0154, 465: 0.0003, 467: 0.0042, 468: 0.0061, 469: 0.0059, 470: 0.0018, 480: 0.0011, 482: 0.0017, 483: 0.0295, 489: 0.0184, 490: 0.0311, 491: 0.0062, 493: 0.0006, 494: 0.0008, 496: 0.008, 497: 0.0062, 498: 0.0009, 510: 0.001, 511: 0.031, 512: 0.0342, 513: 0.0033, 514: 0.0006, 516: 0.0028, 517: 0.0152, 518: 0.0286, 519: 0.0008, 523: 0.006, 539: 0.0214, 540: 0.0146, 543: 0.0005, 545: 0.0067, 547: 0.0003, 551: 0.0005, 552: 0.0067, 553: 0.0013, 567: 0.0051, 568: 0.0102, 569: 0.0061, 574: 0.0012, 578: 0.0004, 581: 0.0011, 594: 0.0018, 596: 0.0005, 597: 0.0003, 604: 0.0005, 628: 0.0012, 630: 0.0006, 635: 0.0012, 656: 0.0006, 659: 0.0006, 663: 0.0006, 664: 0.001, 679: 0.0006})"
            ]
          },
          "metadata": {
            "tags": []
          },
          "execution_count": 16
        }
      ]
    },
    {
      "cell_type": "code",
      "metadata": {
        "id": "LSSXwmSQBOeU"
      },
      "source": [
        ""
      ],
      "execution_count": 16,
      "outputs": []
    }
  ]
}