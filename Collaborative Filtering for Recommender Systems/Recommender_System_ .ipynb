{
  "nbformat": 4,
  "nbformat_minor": 0,
  "metadata": {
    "colab": {
      "name": "Recommender System .ipynb",
      "provenance": [],
      "collapsed_sections": []
    },
    "kernelspec": {
      "name": "python3",
      "display_name": "Python 3"
    },
    "language_info": {
      "name": "python"
    }
  },
  "cells": [
    {
      "cell_type": "code",
      "metadata": {
        "colab": {
          "base_uri": "https://localhost:8080/"
        },
        "id": "U8W-sV7jIcEX",
        "outputId": "ba68979f-524d-4bfe-819f-0b2857f8bd1a"
      },
      "source": [
        "!pip install pyspark\n",
        "!pip install pyarrow\n",
        "!pip install -q findspark\n",
        "from pyspark.sql import SparkSession\n",
        "spark=SparkSession.builder.appName(\"rcc\").getOrCreate()"
      ],
      "execution_count": 1,
      "outputs": [
        {
          "output_type": "stream",
          "text": [
            "Collecting pyspark\n",
            "\u001b[?25l  Downloading https://files.pythonhosted.org/packages/89/db/e18cfd78e408de957821ec5ca56de1250645b05f8523d169803d8df35a64/pyspark-3.1.2.tar.gz (212.4MB)\n",
            "\u001b[K     |████████████████████████████████| 212.4MB 65kB/s \n",
            "\u001b[?25hCollecting py4j==0.10.9\n",
            "\u001b[?25l  Downloading https://files.pythonhosted.org/packages/9e/b6/6a4fb90cd235dc8e265a6a2067f2a2c99f0d91787f06aca4bcf7c23f3f80/py4j-0.10.9-py2.py3-none-any.whl (198kB)\n",
            "\u001b[K     |████████████████████████████████| 204kB 17.1MB/s \n",
            "\u001b[?25hBuilding wheels for collected packages: pyspark\n",
            "  Building wheel for pyspark (setup.py) ... \u001b[?25l\u001b[?25hdone\n",
            "  Created wheel for pyspark: filename=pyspark-3.1.2-py2.py3-none-any.whl size=212880768 sha256=9134efb33a5ffdf8a409ae9332e22c85eb8799ca4b48f8d184ebed151878e676\n",
            "  Stored in directory: /root/.cache/pip/wheels/40/1b/2c/30f43be2627857ab80062bef1527c0128f7b4070b6b2d02139\n",
            "Successfully built pyspark\n",
            "Installing collected packages: py4j, pyspark\n",
            "Successfully installed py4j-0.10.9 pyspark-3.1.2\n",
            "Requirement already satisfied: pyarrow in /usr/local/lib/python3.7/dist-packages (3.0.0)\n",
            "Requirement already satisfied: numpy>=1.16.6 in /usr/local/lib/python3.7/dist-packages (from pyarrow) (1.19.5)\n"
          ],
          "name": "stdout"
        }
      ]
    },
    {
      "cell_type": "code",
      "metadata": {
        "id": "BGLaR40WLm1Y"
      },
      "source": [
        "from pyspark.ml.recommendation import ALS"
      ],
      "execution_count": 3,
      "outputs": []
    },
    {
      "cell_type": "code",
      "metadata": {
        "id": "8NfpNlV4L-QF"
      },
      "source": [
        "from pyspark.ml.evaluation import RegressionEvaluator"
      ],
      "execution_count": 4,
      "outputs": []
    },
    {
      "cell_type": "code",
      "metadata": {
        "id": "oDdfpVt_MI-s"
      },
      "source": [
        "data=spark.read.csv(\"/content/movielens_ratings.csv\",inferSchema=True,header=True)"
      ],
      "execution_count": 5,
      "outputs": []
    },
    {
      "cell_type": "code",
      "metadata": {
        "colab": {
          "base_uri": "https://localhost:8080/"
        },
        "id": "Zoprtef4MZ2M",
        "outputId": "0b060e7c-8453-43a4-fe04-c12bb37b07ad"
      },
      "source": [
        "data.show()"
      ],
      "execution_count": 6,
      "outputs": [
        {
          "output_type": "stream",
          "text": [
            "+-------+------+------+\n",
            "|movieId|rating|userId|\n",
            "+-------+------+------+\n",
            "|      2|   3.0|     0|\n",
            "|      3|   1.0|     0|\n",
            "|      5|   2.0|     0|\n",
            "|      9|   4.0|     0|\n",
            "|     11|   1.0|     0|\n",
            "|     12|   2.0|     0|\n",
            "|     15|   1.0|     0|\n",
            "|     17|   1.0|     0|\n",
            "|     19|   1.0|     0|\n",
            "|     21|   1.0|     0|\n",
            "|     23|   1.0|     0|\n",
            "|     26|   3.0|     0|\n",
            "|     27|   1.0|     0|\n",
            "|     28|   1.0|     0|\n",
            "|     29|   1.0|     0|\n",
            "|     30|   1.0|     0|\n",
            "|     31|   1.0|     0|\n",
            "|     34|   1.0|     0|\n",
            "|     37|   1.0|     0|\n",
            "|     41|   2.0|     0|\n",
            "+-------+------+------+\n",
            "only showing top 20 rows\n",
            "\n"
          ],
          "name": "stdout"
        }
      ]
    },
    {
      "cell_type": "code",
      "metadata": {
        "colab": {
          "base_uri": "https://localhost:8080/"
        },
        "id": "eZqjhG9sMa_2",
        "outputId": "d3731baf-177c-4eeb-f84b-37708e355e07"
      },
      "source": [
        "data.describe().show()"
      ],
      "execution_count": 8,
      "outputs": [
        {
          "output_type": "stream",
          "text": [
            "+-------+------------------+------------------+------------------+\n",
            "|summary|           movieId|            rating|            userId|\n",
            "+-------+------------------+------------------+------------------+\n",
            "|  count|              1501|              1501|              1501|\n",
            "|   mean| 49.40572951365756|1.7741505662891406|14.383744170552964|\n",
            "| stddev|28.937034065088994| 1.187276166124803| 8.591040424293272|\n",
            "|    min|                 0|               1.0|                 0|\n",
            "|    max|                99|               5.0|                29|\n",
            "+-------+------------------+------------------+------------------+\n",
            "\n"
          ],
          "name": "stdout"
        }
      ]
    },
    {
      "cell_type": "code",
      "metadata": {
        "id": "cFR7xDfEMuYO"
      },
      "source": [
        "train_data,test_data=data.randomSplit([0.7,0.3])"
      ],
      "execution_count": 9,
      "outputs": []
    },
    {
      "cell_type": "code",
      "metadata": {
        "id": "ER0HHRBdM4L8"
      },
      "source": [
        "als=ALS(maxIter=5,regParam=0.01,userCol=\"userId\",itemCol=\"movieId\",ratingCol=\"rating\")"
      ],
      "execution_count": 10,
      "outputs": []
    },
    {
      "cell_type": "code",
      "metadata": {
        "id": "LTHbFlSMNMax"
      },
      "source": [
        "model=als.fit(train_data)"
      ],
      "execution_count": 11,
      "outputs": []
    },
    {
      "cell_type": "code",
      "metadata": {
        "id": "GmSIGee7NQWU"
      },
      "source": [
        "predictions=model.transform(test_data)"
      ],
      "execution_count": 12,
      "outputs": []
    },
    {
      "cell_type": "code",
      "metadata": {
        "colab": {
          "base_uri": "https://localhost:8080/"
        },
        "id": "iIdA82dsNWOL",
        "outputId": "edda18a9-9665-4af0-8abf-2f134da76ee1"
      },
      "source": [
        "predictions.show()"
      ],
      "execution_count": 13,
      "outputs": [
        {
          "output_type": "stream",
          "text": [
            "+-------+------+------+-----------+\n",
            "|movieId|rating|userId| prediction|\n",
            "+-------+------+------+-----------+\n",
            "|     31|   1.0|    27|  2.1633523|\n",
            "|     31|   1.0|     5| 0.08960152|\n",
            "|     31|   2.0|    25| -1.9981983|\n",
            "|     31|   3.0|    14|  1.7603602|\n",
            "|     85|   1.0|    28|  0.1608201|\n",
            "|     85|   5.0|    16|  1.1255119|\n",
            "|     85|   2.0|    20| 0.34226444|\n",
            "|     85|   1.0|     5|  0.6844371|\n",
            "|     85|   1.0|     4| -0.3492468|\n",
            "|     85|   5.0|     8|  3.4190388|\n",
            "|     85|   1.0|    23|  0.9774707|\n",
            "|     85|   4.0|     7| -1.2413836|\n",
            "|     85|   1.0|    25|-0.28009397|\n",
            "|     85|   3.0|    21|  0.9408473|\n",
            "|     65|   1.0|    28| -1.4599444|\n",
            "|     65|   1.0|    22| 0.58789015|\n",
            "|     65|   2.0|    15|-0.03338343|\n",
            "|     65|   1.0|    24| 0.48402005|\n",
            "|     53|   2.0|    19|  3.1872659|\n",
            "|     53|   1.0|    23|  2.1254714|\n",
            "+-------+------+------+-----------+\n",
            "only showing top 20 rows\n",
            "\n"
          ],
          "name": "stdout"
        }
      ]
    },
    {
      "cell_type": "code",
      "metadata": {
        "id": "hfvHCDUPNY6Y"
      },
      "source": [
        "evaluator=RegressionEvaluator(metricName=\"rmse\",labelCol=\"rating\",predictionCol=\"prediction\")"
      ],
      "execution_count": 14,
      "outputs": []
    },
    {
      "cell_type": "code",
      "metadata": {
        "id": "pcA-gIkMNyXy"
      },
      "source": [
        "rmse=evaluator.evaluate(predictions)"
      ],
      "execution_count": 15,
      "outputs": []
    },
    {
      "cell_type": "code",
      "metadata": {
        "colab": {
          "base_uri": "https://localhost:8080/"
        },
        "id": "Y0pWf-kIN2nY",
        "outputId": "df1a4748-dd41-4d7a-9ecf-e0f8bbf0d40d"
      },
      "source": [
        "rmse"
      ],
      "execution_count": 16,
      "outputs": [
        {
          "output_type": "execute_result",
          "data": {
            "text/plain": [
              "2.0409171863983087"
            ]
          },
          "metadata": {
            "tags": []
          },
          "execution_count": 16
        }
      ]
    },
    {
      "cell_type": "code",
      "metadata": {
        "id": "Jgat4alyN4DT"
      },
      "source": [
        "single_user=test_data.filter(test_data[\"userId\"]==11).select([\"movieId\",\"userId\"])"
      ],
      "execution_count": 17,
      "outputs": []
    },
    {
      "cell_type": "code",
      "metadata": {
        "colab": {
          "base_uri": "https://localhost:8080/"
        },
        "id": "CV99UmEtONaB",
        "outputId": "4cb2d3ca-c490-4c65-bc4a-b1b35e47ea07"
      },
      "source": [
        "single_user.show()"
      ],
      "execution_count": 18,
      "outputs": [
        {
          "output_type": "stream",
          "text": [
            "+-------+------+\n",
            "|movieId|userId|\n",
            "+-------+------+\n",
            "|      0|    11|\n",
            "|      9|    11|\n",
            "|     18|    11|\n",
            "|     22|    11|\n",
            "|     23|    11|\n",
            "|     38|    11|\n",
            "|     43|    11|\n",
            "|     51|    11|\n",
            "|     62|    11|\n",
            "|     64|    11|\n",
            "|     72|    11|\n",
            "|     75|    11|\n",
            "|     80|    11|\n",
            "|     81|    11|\n",
            "|     90|    11|\n",
            "|     97|    11|\n",
            "+-------+------+\n",
            "\n"
          ],
          "name": "stdout"
        }
      ]
    },
    {
      "cell_type": "code",
      "metadata": {
        "id": "eVWzgYUaOQK2"
      },
      "source": [
        "recomendatons=model.transform(single_user)"
      ],
      "execution_count": 21,
      "outputs": []
    },
    {
      "cell_type": "code",
      "metadata": {
        "colab": {
          "base_uri": "https://localhost:8080/"
        },
        "id": "Xq7gPX5pObQP",
        "outputId": "111f3c43-8625-45ef-edab-f4f7ee19ce56"
      },
      "source": [
        "recomendatons.orderBy(\"prediction\",ascending=False).show()"
      ],
      "execution_count": 22,
      "outputs": [
        {
          "output_type": "stream",
          "text": [
            "+-------+------+-----------+\n",
            "|movieId|userId| prediction|\n",
            "+-------+------+-----------+\n",
            "|     18|    11|   5.236345|\n",
            "|     43|    11|   4.865233|\n",
            "|     64|    11|  3.7003465|\n",
            "|     90|    11|  2.8879824|\n",
            "|     97|    11|  2.0736947|\n",
            "|     23|    11|  1.9909207|\n",
            "|     72|    11|  1.9516172|\n",
            "|      0|    11|   1.417559|\n",
            "|     80|    11|  1.0348321|\n",
            "|     81|    11|  0.7813848|\n",
            "|     22|    11|  0.7208071|\n",
            "|     51|    11|  0.7162586|\n",
            "|     38|    11| 0.51689243|\n",
            "|      9|    11|-0.40894783|\n",
            "|     62|    11|-0.75355375|\n",
            "|     75|    11| -3.7304165|\n",
            "+-------+------+-----------+\n",
            "\n"
          ],
          "name": "stdout"
        }
      ]
    },
    {
      "cell_type": "code",
      "metadata": {
        "id": "b1ITlkZ-OkQe"
      },
      "source": [
        ""
      ],
      "execution_count": null,
      "outputs": []
    }
  ]
}