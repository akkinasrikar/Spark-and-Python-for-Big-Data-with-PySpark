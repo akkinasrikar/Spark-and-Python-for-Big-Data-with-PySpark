{
  "nbformat": 4,
  "nbformat_minor": 0,
  "metadata": {
    "colab": {
      "name": "Logistic Regression .ipynb",
      "provenance": [],
      "collapsed_sections": []
    },
    "kernelspec": {
      "name": "python3",
      "display_name": "Python 3"
    },
    "language_info": {
      "name": "python"
    }
  },
  "cells": [
    {
      "cell_type": "code",
      "metadata": {
        "colab": {
          "base_uri": "https://localhost:8080/"
        },
        "id": "C7xQiz-6n2_h",
        "outputId": "519cb818-8075-4ee7-9520-ca0b6327d010"
      },
      "source": [
        "!pip install pyspark\n",
        "!pip install pyarrow\n",
        "!pip install -q findspark"
      ],
      "execution_count": 1,
      "outputs": [
        {
          "output_type": "stream",
          "text": [
            "Requirement already satisfied: pyspark in /usr/local/lib/python3.7/dist-packages (3.1.2)\n",
            "Requirement already satisfied: py4j==0.10.9 in /usr/local/lib/python3.7/dist-packages (from pyspark) (0.10.9)\n",
            "Requirement already satisfied: pyarrow in /usr/local/lib/python3.7/dist-packages (3.0.0)\n",
            "Requirement already satisfied: numpy>=1.16.6 in /usr/local/lib/python3.7/dist-packages (from pyarrow) (1.19.5)\n"
          ],
          "name": "stdout"
        }
      ]
    },
    {
      "cell_type": "code",
      "metadata": {
        "id": "UqY8dishqWuF"
      },
      "source": [
        "from pyspark.sql import SparkSession\n",
        "spark=SparkSession.builder.appName(\"logistic\").getOrCreate()"
      ],
      "execution_count": 2,
      "outputs": []
    },
    {
      "cell_type": "code",
      "metadata": {
        "id": "IphbQVy9qsIe"
      },
      "source": [
        "from pyspark.ml.classification import LogisticRegression"
      ],
      "execution_count": 3,
      "outputs": []
    },
    {
      "cell_type": "code",
      "metadata": {
        "id": "hSEbFzFwq3BQ"
      },
      "source": [
        "df=spark.read.format(\"libsvm\").load(\"/content/sample_libsvm_data.txt\")"
      ],
      "execution_count": 4,
      "outputs": []
    },
    {
      "cell_type": "code",
      "metadata": {
        "colab": {
          "base_uri": "https://localhost:8080/"
        },
        "id": "JF8Wgyf8q_d7",
        "outputId": "251d8733-a77c-44b0-a534-817ee091b58a"
      },
      "source": [
        "df.show()"
      ],
      "execution_count": 5,
      "outputs": [
        {
          "output_type": "stream",
          "text": [
            "+-----+--------------------+\n",
            "|label|            features|\n",
            "+-----+--------------------+\n",
            "|  0.0|(692,[127,128,129...|\n",
            "|  1.0|(692,[158,159,160...|\n",
            "|  1.0|(692,[124,125,126...|\n",
            "|  1.0|(692,[152,153,154...|\n",
            "|  1.0|(692,[151,152,153...|\n",
            "|  0.0|(692,[129,130,131...|\n",
            "|  1.0|(692,[158,159,160...|\n",
            "|  1.0|(692,[99,100,101,...|\n",
            "|  0.0|(692,[154,155,156...|\n",
            "|  0.0|(692,[127,128,129...|\n",
            "|  1.0|(692,[154,155,156...|\n",
            "|  0.0|(692,[153,154,155...|\n",
            "|  0.0|(692,[151,152,153...|\n",
            "|  1.0|(692,[129,130,131...|\n",
            "|  0.0|(692,[154,155,156...|\n",
            "|  1.0|(692,[150,151,152...|\n",
            "|  0.0|(692,[124,125,126...|\n",
            "|  0.0|(692,[152,153,154...|\n",
            "|  1.0|(692,[97,98,99,12...|\n",
            "|  1.0|(692,[124,125,126...|\n",
            "+-----+--------------------+\n",
            "only showing top 20 rows\n",
            "\n"
          ],
          "name": "stdout"
        }
      ]
    },
    {
      "cell_type": "code",
      "metadata": {
        "id": "MCdc33LjrA9y"
      },
      "source": [
        "logistic_model=LogisticRegression()"
      ],
      "execution_count": 6,
      "outputs": []
    },
    {
      "cell_type": "code",
      "metadata": {
        "id": "0ZhaoieqrL86"
      },
      "source": [
        "train_model=logistic_model.fit(df)"
      ],
      "execution_count": 7,
      "outputs": []
    },
    {
      "cell_type": "code",
      "metadata": {
        "id": "bQsbYekqrUn4"
      },
      "source": [
        "summary=train_model.summary"
      ],
      "execution_count": 8,
      "outputs": []
    },
    {
      "cell_type": "code",
      "metadata": {
        "colab": {
          "base_uri": "https://localhost:8080/"
        },
        "id": "whT6eevmrYCq",
        "outputId": "258989c2-d298-4a62-ec56-a102a84a62f5"
      },
      "source": [
        "summary.predictions.printSchema()"
      ],
      "execution_count": 9,
      "outputs": [
        {
          "output_type": "stream",
          "text": [
            "root\n",
            " |-- label: double (nullable = true)\n",
            " |-- features: vector (nullable = true)\n",
            " |-- rawPrediction: vector (nullable = true)\n",
            " |-- probability: vector (nullable = true)\n",
            " |-- prediction: double (nullable = false)\n",
            "\n"
          ],
          "name": "stdout"
        }
      ]
    },
    {
      "cell_type": "code",
      "metadata": {
        "colab": {
          "base_uri": "https://localhost:8080/"
        },
        "id": "RsDfwbesrh57",
        "outputId": "0b53c195-1c10-4bc4-ddf5-ff41d5fc1df4"
      },
      "source": [
        "summary.predictions.select(\"label\",\"prediction\").show()"
      ],
      "execution_count": 10,
      "outputs": [
        {
          "output_type": "stream",
          "text": [
            "+-----+----------+\n",
            "|label|prediction|\n",
            "+-----+----------+\n",
            "|  0.0|       0.0|\n",
            "|  1.0|       1.0|\n",
            "|  1.0|       1.0|\n",
            "|  1.0|       1.0|\n",
            "|  1.0|       1.0|\n",
            "|  0.0|       0.0|\n",
            "|  1.0|       1.0|\n",
            "|  1.0|       1.0|\n",
            "|  0.0|       0.0|\n",
            "|  0.0|       0.0|\n",
            "|  1.0|       1.0|\n",
            "|  0.0|       0.0|\n",
            "|  0.0|       0.0|\n",
            "|  1.0|       1.0|\n",
            "|  0.0|       0.0|\n",
            "|  1.0|       1.0|\n",
            "|  0.0|       0.0|\n",
            "|  0.0|       0.0|\n",
            "|  1.0|       1.0|\n",
            "|  1.0|       1.0|\n",
            "+-----+----------+\n",
            "only showing top 20 rows\n",
            "\n"
          ],
          "name": "stdout"
        }
      ]
    },
    {
      "cell_type": "code",
      "metadata": {
        "id": "-yffH1snrvZL"
      },
      "source": [
        "train_data,test_data=df.randomSplit([0.7,0.3])"
      ],
      "execution_count": 11,
      "outputs": []
    },
    {
      "cell_type": "code",
      "metadata": {
        "id": "yZK6THj_sL7I"
      },
      "source": [
        "final_model=LogisticRegression()"
      ],
      "execution_count": 12,
      "outputs": []
    },
    {
      "cell_type": "code",
      "metadata": {
        "id": "MjIVcyGusSEo"
      },
      "source": [
        "final_fit=final_model.fit(train_data)"
      ],
      "execution_count": 13,
      "outputs": []
    },
    {
      "cell_type": "code",
      "metadata": {
        "id": "L1KBar25sWgx"
      },
      "source": [
        "predictions_and_labels=final_fit.evaluate(test_data)"
      ],
      "execution_count": 14,
      "outputs": []
    },
    {
      "cell_type": "code",
      "metadata": {
        "colab": {
          "base_uri": "https://localhost:8080/"
        },
        "id": "IFf6pqDwscPg",
        "outputId": "3fe4789e-49df-4ee1-a63f-919bf150bc11"
      },
      "source": [
        "predictions_and_labels.predictions.show()"
      ],
      "execution_count": 15,
      "outputs": [
        {
          "output_type": "stream",
          "text": [
            "+-----+--------------------+--------------------+--------------------+----------+\n",
            "|label|            features|       rawPrediction|         probability|prediction|\n",
            "+-----+--------------------+--------------------+--------------------+----------+\n",
            "|  0.0|(692,[95,96,97,12...|[21.6249999590862...|[0.99999999959413...|       0.0|\n",
            "|  0.0|(692,[100,101,102...|[11.3447938486260...|[0.99998816921682...|       0.0|\n",
            "|  0.0|(692,[123,124,125...|[31.0397014336930...|[0.99999999999996...|       0.0|\n",
            "|  0.0|(692,[126,127,128...|[15.8566837667438...|[0.99999987012376...|       0.0|\n",
            "|  0.0|(692,[126,127,128...|[20.7067715360549...|[0.99999999898336...|       0.0|\n",
            "|  0.0|(692,[126,127,128...|[23.5116910517122...|[0.99999999993848...|       0.0|\n",
            "|  0.0|(692,[127,128,129...|[20.8660222560481...|[0.99999999913303...|       0.0|\n",
            "|  0.0|(692,[129,130,131...|[15.8572605148261...|[0.99999987019865...|       0.0|\n",
            "|  0.0|(692,[152,153,154...|[14.2069485846102...|[0.99999932391650...|       0.0|\n",
            "|  0.0|(692,[153,154,155...|[31.0579704159692...|[0.99999999999996...|       0.0|\n",
            "|  0.0|(692,[181,182,183...|[16.9464855243170...|[0.99999995632480...|       0.0|\n",
            "|  0.0|(692,[234,235,237...|[5.35754398372090...|[0.99530963737436...|       0.0|\n",
            "|  1.0|(692,[97,98,99,12...|[-21.780501670342...|[3.47414796578407...|       1.0|\n",
            "|  1.0|(692,[123,124,125...|[-26.617429213903...|[2.75548067762205...|       1.0|\n",
            "|  1.0|(692,[123,124,125...|[-20.904236138337...|[8.34460139936788...|       1.0|\n",
            "|  1.0|(692,[124,125,126...|[-30.530417291066...|[5.50564544775170...|       1.0|\n",
            "|  1.0|(692,[126,127,128...|[-32.612714686235...|[6.86243070172635...|       1.0|\n",
            "|  1.0|(692,[127,128,129...|[-31.755518816496...|[1.61716155417181...|       1.0|\n",
            "|  1.0|(692,[127,128,155...|[-24.377072702615...|[2.58923721381437...|       1.0|\n",
            "|  1.0|(692,[128,129,130...|[-26.583089181740...|[2.85174741420402...|       1.0|\n",
            "+-----+--------------------+--------------------+--------------------+----------+\n",
            "only showing top 20 rows\n",
            "\n"
          ],
          "name": "stdout"
        }
      ]
    },
    {
      "cell_type": "code",
      "metadata": {
        "colab": {
          "base_uri": "https://localhost:8080/"
        },
        "id": "KwXHg6nCsdhE",
        "outputId": "c37fb4b0-3b3a-4c08-ee07-dfd9f4f7a1fc"
      },
      "source": [
        " predictions_and_labels.predictions.select(\"label\",\"prediction\").show()"
      ],
      "execution_count": 16,
      "outputs": [
        {
          "output_type": "stream",
          "text": [
            "+-----+----------+\n",
            "|label|prediction|\n",
            "+-----+----------+\n",
            "|  0.0|       0.0|\n",
            "|  0.0|       0.0|\n",
            "|  0.0|       0.0|\n",
            "|  0.0|       0.0|\n",
            "|  0.0|       0.0|\n",
            "|  0.0|       0.0|\n",
            "|  0.0|       0.0|\n",
            "|  0.0|       0.0|\n",
            "|  0.0|       0.0|\n",
            "|  0.0|       0.0|\n",
            "|  0.0|       0.0|\n",
            "|  0.0|       0.0|\n",
            "|  1.0|       1.0|\n",
            "|  1.0|       1.0|\n",
            "|  1.0|       1.0|\n",
            "|  1.0|       1.0|\n",
            "|  1.0|       1.0|\n",
            "|  1.0|       1.0|\n",
            "|  1.0|       1.0|\n",
            "|  1.0|       1.0|\n",
            "+-----+----------+\n",
            "only showing top 20 rows\n",
            "\n"
          ],
          "name": "stdout"
        }
      ]
    },
    {
      "cell_type": "code",
      "metadata": {
        "id": "fYNAVr-GsrAr"
      },
      "source": [
        "from pyspark.mllib.evaluation import MulticlassMetrics\n",
        "from pyspark.ml.evaluation import BinaryClassificationEvaluator,MulticlassClassificationEvaluator"
      ],
      "execution_count": 17,
      "outputs": []
    },
    {
      "cell_type": "code",
      "metadata": {
        "id": "GSmMGrgOvAPQ"
      },
      "source": [
        "evaluator=BinaryClassificationEvaluator(rawPredictionCol=\"prediction\",labelCol=\"label\")\n",
        "# For multiclass\n",
        "#evaluator = MulticlassClassificationEvaluator(predictionCol='prediction', labelCol='label',\n",
        "#                                             metricName='accuracy')"
      ],
      "execution_count": 18,
      "outputs": []
    },
    {
      "cell_type": "code",
      "metadata": {
        "id": "6acoq72LupeB"
      },
      "source": [
        "accuracy=evaluator.evaluate(predictions_and_labels.predictions)"
      ],
      "execution_count": 19,
      "outputs": []
    },
    {
      "cell_type": "code",
      "metadata": {
        "colab": {
          "base_uri": "https://localhost:8080/"
        },
        "id": "Ihf637LXu9gD",
        "outputId": "f14f040e-edee-433b-90b9-407bdaf02511"
      },
      "source": [
        "print(\"accuracy : \",accuracy*100,\" %\")"
      ],
      "execution_count": 20,
      "outputs": [
        {
          "output_type": "stream",
          "text": [
            "accuracy :  100.0  %\n"
          ],
          "name": "stdout"
        }
      ]
    },
    {
      "cell_type": "code",
      "metadata": {
        "id": "WhRUyvutvotn"
      },
      "source": [
        ""
      ],
      "execution_count": 20,
      "outputs": []
    }
  ]
}