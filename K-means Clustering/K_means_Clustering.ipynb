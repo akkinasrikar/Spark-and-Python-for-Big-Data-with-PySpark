{
  "nbformat": 4,
  "nbformat_minor": 0,
  "metadata": {
    "colab": {
      "name": "K-means Clustering.ipynb",
      "provenance": [],
      "collapsed_sections": []
    },
    "kernelspec": {
      "name": "python3",
      "display_name": "Python 3"
    },
    "language_info": {
      "name": "python"
    }
  },
  "cells": [
    {
      "cell_type": "code",
      "metadata": {
        "colab": {
          "base_uri": "https://localhost:8080/"
        },
        "id": "kOIb41Q9Dgmk",
        "outputId": "9932d731-6a06-464a-a502-5229a97adf49"
      },
      "source": [
        "!pip install pyspark\n",
        "!pip install pyarrow\n",
        "!pip install -q findspark\n",
        "from pyspark.sql import SparkSession\n",
        "spark=SparkSession.builder.appName(\"cluster\").getOrCreate()"
      ],
      "execution_count": 1,
      "outputs": [
        {
          "output_type": "stream",
          "text": [
            "Requirement already satisfied: pyspark in /usr/local/lib/python3.7/dist-packages (3.1.2)\n",
            "Requirement already satisfied: py4j==0.10.9 in /usr/local/lib/python3.7/dist-packages (from pyspark) (0.10.9)\n",
            "Requirement already satisfied: pyarrow in /usr/local/lib/python3.7/dist-packages (3.0.0)\n",
            "Requirement already satisfied: numpy>=1.16.6 in /usr/local/lib/python3.7/dist-packages (from pyarrow) (1.19.5)\n"
          ],
          "name": "stdout"
        }
      ]
    },
    {
      "cell_type": "code",
      "metadata": {
        "id": "fJRkgUlcDnkY"
      },
      "source": [
        "from pyspark.ml.clustering import KMeans"
      ],
      "execution_count": 2,
      "outputs": []
    },
    {
      "cell_type": "code",
      "metadata": {
        "id": "_Xn5J2epEPFS"
      },
      "source": [
        "data=spark.read.format(\"libsvm\").load(\"/content/sample_kmeans_data.txt\")"
      ],
      "execution_count": 3,
      "outputs": []
    },
    {
      "cell_type": "code",
      "metadata": {
        "colab": {
          "base_uri": "https://localhost:8080/"
        },
        "id": "qBAczFUBElMB",
        "outputId": "6166f8d0-7356-4eb5-ecd8-caec8c71411a"
      },
      "source": [
        "data.show()"
      ],
      "execution_count": 4,
      "outputs": [
        {
          "output_type": "stream",
          "text": [
            "+-----+--------------------+\n",
            "|label|            features|\n",
            "+-----+--------------------+\n",
            "|  0.0|           (3,[],[])|\n",
            "|  1.0|(3,[0,1,2],[0.1,0...|\n",
            "|  2.0|(3,[0,1,2],[0.2,0...|\n",
            "|  3.0|(3,[0,1,2],[9.0,9...|\n",
            "|  4.0|(3,[0,1,2],[9.1,9...|\n",
            "|  5.0|(3,[0,1,2],[9.2,9...|\n",
            "+-----+--------------------+\n",
            "\n"
          ],
          "name": "stdout"
        }
      ]
    },
    {
      "cell_type": "code",
      "metadata": {
        "id": "AZkKE-w7EtEq"
      },
      "source": [
        "final_data=data.select(\"features\")"
      ],
      "execution_count": 5,
      "outputs": []
    },
    {
      "cell_type": "code",
      "metadata": {
        "id": "OLUqXMiwE2YN"
      },
      "source": [
        "kmeans=KMeans().setK(2).setSeed(1)"
      ],
      "execution_count": 6,
      "outputs": []
    },
    {
      "cell_type": "code",
      "metadata": {
        "id": "EiCEEDnOFFy9"
      },
      "source": [
        "model=kmeans.fit(final_data)"
      ],
      "execution_count": 7,
      "outputs": []
    },
    {
      "cell_type": "code",
      "metadata": {
        "id": "HWivsUTKF8vy"
      },
      "source": [
        "test=model.transform(final_data)"
      ],
      "execution_count": 8,
      "outputs": []
    },
    {
      "cell_type": "code",
      "metadata": {
        "id": "1xqlxbcCFIqn"
      },
      "source": [
        "from pyspark.ml.evaluation import ClusteringEvaluator"
      ],
      "execution_count": 9,
      "outputs": []
    },
    {
      "cell_type": "code",
      "metadata": {
        "id": "kLgu_i0pFXB-"
      },
      "source": [
        "evaluator=ClusteringEvaluator()"
      ],
      "execution_count": 10,
      "outputs": []
    },
    {
      "cell_type": "code",
      "metadata": {
        "id": "b_Sv4xIyFxuK"
      },
      "source": [
        "silhouette = evaluator.evaluate(test)"
      ],
      "execution_count": 11,
      "outputs": []
    },
    {
      "cell_type": "code",
      "metadata": {
        "colab": {
          "base_uri": "https://localhost:8080/"
        },
        "id": "IWB9A2Q_GIY2",
        "outputId": "e94cb6b0-8f45-473d-efd2-3ebe785e53e3"
      },
      "source": [
        "print(\"Silhouette with squared euclidean distance = \" + str(silhouette))"
      ],
      "execution_count": 12,
      "outputs": [
        {
          "output_type": "stream",
          "text": [
            "Silhouette with squared euclidean distance = 0.9997530305375207\n"
          ],
          "name": "stdout"
        }
      ]
    },
    {
      "cell_type": "code",
      "metadata": {
        "id": "pVK--JLrGJAk"
      },
      "source": [
        "centres=model.clusterCenters()"
      ],
      "execution_count": 13,
      "outputs": []
    },
    {
      "cell_type": "code",
      "metadata": {
        "colab": {
          "base_uri": "https://localhost:8080/"
        },
        "id": "kdbUVUFpGS1G",
        "outputId": "5170864f-3478-42ec-9c59-858c7a608170"
      },
      "source": [
        "centres"
      ],
      "execution_count": 14,
      "outputs": [
        {
          "output_type": "execute_result",
          "data": {
            "text/plain": [
              "[array([9.1, 9.1, 9.1]), array([0.1, 0.1, 0.1])]"
            ]
          },
          "metadata": {
            "tags": []
          },
          "execution_count": 14
        }
      ]
    },
    {
      "cell_type": "code",
      "metadata": {
        "colab": {
          "base_uri": "https://localhost:8080/"
        },
        "id": "tWs4m88tGTZJ",
        "outputId": "9ce51711-3363-4e04-b12d-535b12f9f2de"
      },
      "source": [
        "test.show()"
      ],
      "execution_count": 15,
      "outputs": [
        {
          "output_type": "stream",
          "text": [
            "+--------------------+----------+\n",
            "|            features|prediction|\n",
            "+--------------------+----------+\n",
            "|           (3,[],[])|         1|\n",
            "|(3,[0,1,2],[0.1,0...|         1|\n",
            "|(3,[0,1,2],[0.2,0...|         1|\n",
            "|(3,[0,1,2],[9.0,9...|         0|\n",
            "|(3,[0,1,2],[9.1,9...|         0|\n",
            "|(3,[0,1,2],[9.2,9...|         0|\n",
            "+--------------------+----------+\n",
            "\n"
          ],
          "name": "stdout"
        }
      ]
    },
    {
      "cell_type": "code",
      "metadata": {
        "id": "WU89XY3CGoOc"
      },
      "source": [
        ""
      ],
      "execution_count": 15,
      "outputs": []
    }
  ]
}