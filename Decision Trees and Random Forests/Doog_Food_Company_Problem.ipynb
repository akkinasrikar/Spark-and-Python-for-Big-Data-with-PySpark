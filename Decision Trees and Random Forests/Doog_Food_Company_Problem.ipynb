{
  "nbformat": 4,
  "nbformat_minor": 0,
  "metadata": {
    "colab": {
      "name": "Doog Food Company Problem.ipynb",
      "provenance": []
    },
    "kernelspec": {
      "name": "python3",
      "display_name": "Python 3"
    },
    "language_info": {
      "name": "python"
    }
  },
  "cells": [
    {
      "cell_type": "code",
      "metadata": {
        "colab": {
          "base_uri": "https://localhost:8080/"
        },
        "id": "eNwKU4KrNgFG",
        "outputId": "f45e144f-9736-40e1-be4b-331f9f17af34"
      },
      "source": [
        "!pip install pyspark\n",
        "!pip install pyarrow\n",
        "!pip install -q findspark\n",
        "from pyspark.sql import SparkSession\n",
        "spark=SparkSession.builder.appName(\"trees\").getOrCreate()"
      ],
      "execution_count": 1,
      "outputs": [
        {
          "output_type": "stream",
          "text": [
            "Collecting pyspark\n",
            "\u001b[?25l  Downloading https://files.pythonhosted.org/packages/89/db/e18cfd78e408de957821ec5ca56de1250645b05f8523d169803d8df35a64/pyspark-3.1.2.tar.gz (212.4MB)\n",
            "\u001b[K     |████████████████████████████████| 212.4MB 68kB/s \n",
            "\u001b[?25hCollecting py4j==0.10.9\n",
            "\u001b[?25l  Downloading https://files.pythonhosted.org/packages/9e/b6/6a4fb90cd235dc8e265a6a2067f2a2c99f0d91787f06aca4bcf7c23f3f80/py4j-0.10.9-py2.py3-none-any.whl (198kB)\n",
            "\u001b[K     |████████████████████████████████| 204kB 17.8MB/s \n",
            "\u001b[?25hBuilding wheels for collected packages: pyspark\n",
            "  Building wheel for pyspark (setup.py) ... \u001b[?25l\u001b[?25hdone\n",
            "  Created wheel for pyspark: filename=pyspark-3.1.2-py2.py3-none-any.whl size=212880768 sha256=dc672a4c34bf4d1bce20d900f2c8ab9d4002f509bd431b7ad48f9ef99b886087\n",
            "  Stored in directory: /root/.cache/pip/wheels/40/1b/2c/30f43be2627857ab80062bef1527c0128f7b4070b6b2d02139\n",
            "Successfully built pyspark\n",
            "Installing collected packages: py4j, pyspark\n",
            "Successfully installed py4j-0.10.9 pyspark-3.1.2\n",
            "Requirement already satisfied: pyarrow in /usr/local/lib/python3.7/dist-packages (3.0.0)\n",
            "Requirement already satisfied: numpy>=1.16.6 in /usr/local/lib/python3.7/dist-packages (from pyarrow) (1.19.5)\n"
          ],
          "name": "stdout"
        }
      ]
    },
    {
      "cell_type": "code",
      "metadata": {
        "id": "-C-dnj6jNgxN"
      },
      "source": [
        "data=spark.read.csv(\"/content/dog_food.csv\",inferSchema=True,header=True)"
      ],
      "execution_count": 2,
      "outputs": []
    },
    {
      "cell_type": "code",
      "metadata": {
        "colab": {
          "base_uri": "https://localhost:8080/"
        },
        "id": "6rFHT9eHP_hw",
        "outputId": "b1ce2ee2-6e46-472f-c225-5b0957566617"
      },
      "source": [
        "data.head(1)"
      ],
      "execution_count": 3,
      "outputs": [
        {
          "output_type": "execute_result",
          "data": {
            "text/plain": [
              "[Row(A=4, B=2, C=12.0, D=3, Spoiled=1.0)]"
            ]
          },
          "metadata": {
            "tags": []
          },
          "execution_count": 3
        }
      ]
    },
    {
      "cell_type": "code",
      "metadata": {
        "colab": {
          "base_uri": "https://localhost:8080/"
        },
        "id": "KaB6DGwDQDwZ",
        "outputId": "4fb9aaa5-6300-4e59-ab9b-1b0ba5d8cc16"
      },
      "source": [
        "data.show()"
      ],
      "execution_count": 4,
      "outputs": [
        {
          "output_type": "stream",
          "text": [
            "+---+---+----+---+-------+\n",
            "|  A|  B|   C|  D|Spoiled|\n",
            "+---+---+----+---+-------+\n",
            "|  4|  2|12.0|  3|    1.0|\n",
            "|  5|  6|12.0|  7|    1.0|\n",
            "|  6|  2|13.0|  6|    1.0|\n",
            "|  4|  2|12.0|  1|    1.0|\n",
            "|  4|  2|12.0|  3|    1.0|\n",
            "| 10|  3|13.0|  9|    1.0|\n",
            "|  8|  5|14.0|  5|    1.0|\n",
            "|  5|  8|12.0|  8|    1.0|\n",
            "|  6|  5|12.0|  9|    1.0|\n",
            "|  3|  3|12.0|  1|    1.0|\n",
            "|  9|  8|11.0|  3|    1.0|\n",
            "|  1| 10|12.0|  3|    1.0|\n",
            "|  1|  5|13.0| 10|    1.0|\n",
            "|  2| 10|12.0|  6|    1.0|\n",
            "|  1| 10|11.0|  4|    1.0|\n",
            "|  5|  3|12.0|  2|    1.0|\n",
            "|  4|  9|11.0|  8|    1.0|\n",
            "|  5|  1|11.0|  1|    1.0|\n",
            "|  4|  9|12.0| 10|    1.0|\n",
            "|  5|  8|10.0|  9|    1.0|\n",
            "+---+---+----+---+-------+\n",
            "only showing top 20 rows\n",
            "\n"
          ],
          "name": "stdout"
        }
      ]
    },
    {
      "cell_type": "code",
      "metadata": {
        "id": "y4v49TG0QFbr"
      },
      "source": [
        "from pyspark.ml.feature import VectorAssembler"
      ],
      "execution_count": 5,
      "outputs": []
    },
    {
      "cell_type": "code",
      "metadata": {
        "id": "eNFu7lAoQQSr"
      },
      "source": [
        "assembler=VectorAssembler(inputCols=[\"A\",\"B\",\"C\",\"D\"],outputCol=\"features\")"
      ],
      "execution_count": 6,
      "outputs": []
    },
    {
      "cell_type": "code",
      "metadata": {
        "id": "HKpwHqZSQW-b"
      },
      "source": [
        "output=assembler.transform(data)"
      ],
      "execution_count": 7,
      "outputs": []
    },
    {
      "cell_type": "code",
      "metadata": {
        "colab": {
          "base_uri": "https://localhost:8080/"
        },
        "id": "_Xdy6yLvQb5J",
        "outputId": "52859fd3-9016-4a28-e7e1-c29a8d48843b"
      },
      "source": [
        "output.show()"
      ],
      "execution_count": 8,
      "outputs": [
        {
          "output_type": "stream",
          "text": [
            "+---+---+----+---+-------+-------------------+\n",
            "|  A|  B|   C|  D|Spoiled|           features|\n",
            "+---+---+----+---+-------+-------------------+\n",
            "|  4|  2|12.0|  3|    1.0| [4.0,2.0,12.0,3.0]|\n",
            "|  5|  6|12.0|  7|    1.0| [5.0,6.0,12.0,7.0]|\n",
            "|  6|  2|13.0|  6|    1.0| [6.0,2.0,13.0,6.0]|\n",
            "|  4|  2|12.0|  1|    1.0| [4.0,2.0,12.0,1.0]|\n",
            "|  4|  2|12.0|  3|    1.0| [4.0,2.0,12.0,3.0]|\n",
            "| 10|  3|13.0|  9|    1.0|[10.0,3.0,13.0,9.0]|\n",
            "|  8|  5|14.0|  5|    1.0| [8.0,5.0,14.0,5.0]|\n",
            "|  5|  8|12.0|  8|    1.0| [5.0,8.0,12.0,8.0]|\n",
            "|  6|  5|12.0|  9|    1.0| [6.0,5.0,12.0,9.0]|\n",
            "|  3|  3|12.0|  1|    1.0| [3.0,3.0,12.0,1.0]|\n",
            "|  9|  8|11.0|  3|    1.0| [9.0,8.0,11.0,3.0]|\n",
            "|  1| 10|12.0|  3|    1.0|[1.0,10.0,12.0,3.0]|\n",
            "|  1|  5|13.0| 10|    1.0|[1.0,5.0,13.0,10.0]|\n",
            "|  2| 10|12.0|  6|    1.0|[2.0,10.0,12.0,6.0]|\n",
            "|  1| 10|11.0|  4|    1.0|[1.0,10.0,11.0,4.0]|\n",
            "|  5|  3|12.0|  2|    1.0| [5.0,3.0,12.0,2.0]|\n",
            "|  4|  9|11.0|  8|    1.0| [4.0,9.0,11.0,8.0]|\n",
            "|  5|  1|11.0|  1|    1.0| [5.0,1.0,11.0,1.0]|\n",
            "|  4|  9|12.0| 10|    1.0|[4.0,9.0,12.0,10.0]|\n",
            "|  5|  8|10.0|  9|    1.0| [5.0,8.0,10.0,9.0]|\n",
            "+---+---+----+---+-------+-------------------+\n",
            "only showing top 20 rows\n",
            "\n"
          ],
          "name": "stdout"
        }
      ]
    },
    {
      "cell_type": "code",
      "metadata": {
        "id": "1i8VAkOsQd4u"
      },
      "source": [
        "from pyspark.ml.classification import RandomForestClassifier"
      ],
      "execution_count": 10,
      "outputs": []
    },
    {
      "cell_type": "code",
      "metadata": {
        "id": "9EG5S7XOQhuT"
      },
      "source": [
        "rfc=RandomForestClassifier(labelCol=\"Spoiled\",featuresCol=\"features\")"
      ],
      "execution_count": 11,
      "outputs": []
    },
    {
      "cell_type": "code",
      "metadata": {
        "id": "5WWDuCxsQyd5"
      },
      "source": [
        "final_data=output.select(\"Spoiled\",\"features\")"
      ],
      "execution_count": 12,
      "outputs": []
    },
    {
      "cell_type": "code",
      "metadata": {
        "id": "5b1z7hmsQ2R5"
      },
      "source": [
        "rfc_model=rfc.fit(final_data)"
      ],
      "execution_count": 13,
      "outputs": []
    },
    {
      "cell_type": "code",
      "metadata": {
        "colab": {
          "base_uri": "https://localhost:8080/"
        },
        "id": "MeRDIqunQ7uq",
        "outputId": "baafc80b-eb64-456f-e719-8f1c6d93851e"
      },
      "source": [
        "rfc_model.featureImportances"
      ],
      "execution_count": 14,
      "outputs": [
        {
          "output_type": "execute_result",
          "data": {
            "text/plain": [
              "SparseVector(4, {0: 0.0108, 1: 0.0137, 2: 0.9597, 3: 0.0159})"
            ]
          },
          "metadata": {
            "tags": []
          },
          "execution_count": 14
        }
      ]
    },
    {
      "cell_type": "code",
      "metadata": {
        "colab": {
          "base_uri": "https://localhost:8080/"
        },
        "id": "OTkYyuBLQ_6d",
        "outputId": "ed8c5009-e637-49d3-b72d-52cd2aee98f7"
      },
      "source": [
        "final_data.head(1)"
      ],
      "execution_count": 15,
      "outputs": [
        {
          "output_type": "execute_result",
          "data": {
            "text/plain": [
              "[Row(Spoiled=1.0, features=DenseVector([4.0, 2.0, 12.0, 3.0]))]"
            ]
          },
          "metadata": {
            "tags": []
          },
          "execution_count": 15
        }
      ]
    },
    {
      "cell_type": "code",
      "metadata": {
        "id": "i3pcIfTvRGAY"
      },
      "source": [
        ""
      ],
      "execution_count": null,
      "outputs": []
    }
  ]
}