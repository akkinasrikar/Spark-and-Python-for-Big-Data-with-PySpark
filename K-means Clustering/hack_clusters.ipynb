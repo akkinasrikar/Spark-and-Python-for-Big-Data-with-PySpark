{
  "nbformat": 4,
  "nbformat_minor": 0,
  "metadata": {
    "colab": {
      "name": "hack clusters.ipynb",
      "provenance": [],
      "collapsed_sections": []
    },
    "kernelspec": {
      "name": "python3",
      "display_name": "Python 3"
    },
    "language_info": {
      "name": "python"
    }
  },
  "cells": [
    {
      "cell_type": "code",
      "metadata": {
        "colab": {
          "base_uri": "https://localhost:8080/"
        },
        "id": "EKBXUjN8bNr6",
        "outputId": "a202779d-01a0-4a99-b0f1-ef860f8624f6"
      },
      "source": [
        "!pip install pyspark\n",
        "!pip install pyarrow\n",
        "!pip install -q findspark\n",
        "from pyspark.sql import SparkSession\n",
        "spark=SparkSession.builder.appName(\"cluster\").getOrCreate()"
      ],
      "execution_count": 1,
      "outputs": [
        {
          "output_type": "stream",
          "text": [
            "Collecting pyspark\n",
            "\u001b[?25l  Downloading https://files.pythonhosted.org/packages/89/db/e18cfd78e408de957821ec5ca56de1250645b05f8523d169803d8df35a64/pyspark-3.1.2.tar.gz (212.4MB)\n",
            "\u001b[K     |████████████████████████████████| 212.4MB 65kB/s \n",
            "\u001b[?25hCollecting py4j==0.10.9\n",
            "\u001b[?25l  Downloading https://files.pythonhosted.org/packages/9e/b6/6a4fb90cd235dc8e265a6a2067f2a2c99f0d91787f06aca4bcf7c23f3f80/py4j-0.10.9-py2.py3-none-any.whl (198kB)\n",
            "\u001b[K     |████████████████████████████████| 204kB 17.5MB/s \n",
            "\u001b[?25hBuilding wheels for collected packages: pyspark\n",
            "  Building wheel for pyspark (setup.py) ... \u001b[?25l\u001b[?25hdone\n",
            "  Created wheel for pyspark: filename=pyspark-3.1.2-py2.py3-none-any.whl size=212880768 sha256=57a80de77b9b49377f7939092c99c175acb5e79f0d63c7e40b70a79eaf0f3d80\n",
            "  Stored in directory: /root/.cache/pip/wheels/40/1b/2c/30f43be2627857ab80062bef1527c0128f7b4070b6b2d02139\n",
            "Successfully built pyspark\n",
            "Installing collected packages: py4j, pyspark\n",
            "Successfully installed py4j-0.10.9 pyspark-3.1.2\n",
            "Requirement already satisfied: pyarrow in /usr/local/lib/python3.7/dist-packages (3.0.0)\n",
            "Requirement already satisfied: numpy>=1.16.6 in /usr/local/lib/python3.7/dist-packages (from pyarrow) (1.19.5)\n"
          ],
          "name": "stdout"
        }
      ]
    },
    {
      "cell_type": "code",
      "metadata": {
        "id": "x34etACmbOMy"
      },
      "source": [
        "data=spark.read.csv(\"/content/hack_data.csv\",inferSchema=True,header=True)"
      ],
      "execution_count": 2,
      "outputs": []
    },
    {
      "cell_type": "code",
      "metadata": {
        "colab": {
          "base_uri": "https://localhost:8080/"
        },
        "id": "A7VvPPGxgRZE",
        "outputId": "231a57f2-9102-4c24-a582-f97d2cbf886a"
      },
      "source": [
        "data.show()"
      ],
      "execution_count": 3,
      "outputs": [
        {
          "output_type": "stream",
          "text": [
            "+-----------------------+-----------------+---------------+-----------------+---------------+--------------------+----------------+\n",
            "|Session_Connection_Time|Bytes Transferred|Kali_Trace_Used|Servers_Corrupted|Pages_Corrupted|            Location|WPM_Typing_Speed|\n",
            "+-----------------------+-----------------+---------------+-----------------+---------------+--------------------+----------------+\n",
            "|                    8.0|           391.09|              1|             2.96|            7.0|            Slovenia|           72.37|\n",
            "|                   20.0|           720.99|              0|             3.04|            9.0|British Virgin Is...|           69.08|\n",
            "|                   31.0|           356.32|              1|             3.71|            8.0|             Tokelau|           70.58|\n",
            "|                    2.0|           228.08|              1|             2.48|            8.0|             Bolivia|            70.8|\n",
            "|                   20.0|            408.5|              0|             3.57|            8.0|                Iraq|           71.28|\n",
            "|                    1.0|           390.69|              1|             2.79|            9.0|    Marshall Islands|           71.57|\n",
            "|                   18.0|           342.97|              1|              5.1|            7.0|             Georgia|           72.32|\n",
            "|                   22.0|           101.61|              1|             3.03|            7.0|         Timor-Leste|           72.03|\n",
            "|                   15.0|           275.53|              1|             3.53|            8.0|Palestinian Terri...|           70.17|\n",
            "|                   12.0|           424.83|              1|             2.53|            8.0|          Bangladesh|           69.99|\n",
            "|                   15.0|           249.09|              1|             3.39|            9.0|Northern Mariana ...|           70.77|\n",
            "|                   32.0|           242.48|              0|             4.24|            8.0|            Zimbabwe|           67.93|\n",
            "|                   23.0|           514.54|              0|             3.18|            8.0|         Isle of Man|           68.56|\n",
            "|                    9.0|           284.77|              0|             3.12|            9.0|Sao Tome and Prin...|           70.82|\n",
            "|                   27.0|           779.25|              1|             2.37|            8.0|              Greece|           72.73|\n",
            "|                   12.0|           307.31|              1|             3.22|            7.0|     Solomon Islands|           67.95|\n",
            "|                   21.0|           355.94|              1|              2.0|            7.0|       Guinea-Bissau|            72.0|\n",
            "|                   10.0|           372.65|              0|             3.33|            7.0|        Burkina Faso|           69.19|\n",
            "|                   20.0|           347.23|              1|             2.33|            7.0|            Mongolia|           70.41|\n",
            "|                   22.0|           456.57|              0|             1.52|            8.0|             Nigeria|           69.35|\n",
            "+-----------------------+-----------------+---------------+-----------------+---------------+--------------------+----------------+\n",
            "only showing top 20 rows\n",
            "\n"
          ],
          "name": "stdout"
        }
      ]
    },
    {
      "cell_type": "code",
      "metadata": {
        "id": "M-cfJtYDgS09"
      },
      "source": [
        "from pyspark.ml.clustering import KMeans\n",
        "from pyspark.ml.feature import VectorAssembler\n",
        "from pyspark.ml.evaluation import ClusteringEvaluator"
      ],
      "execution_count": 4,
      "outputs": []
    },
    {
      "cell_type": "code",
      "metadata": {
        "colab": {
          "base_uri": "https://localhost:8080/"
        },
        "id": "feidtAypgaZn",
        "outputId": "e2b7da48-2a2d-484d-9785-338e7a4a01aa"
      },
      "source": [
        "data.columns"
      ],
      "execution_count": 16,
      "outputs": [
        {
          "output_type": "execute_result",
          "data": {
            "text/plain": [
              "['Session_Connection_Time',\n",
              " 'Bytes Transferred',\n",
              " 'Kali_Trace_Used',\n",
              " 'Servers_Corrupted',\n",
              " 'Pages_Corrupted',\n",
              " 'Location',\n",
              " 'WPM_Typing_Speed']"
            ]
          },
          "metadata": {
            "tags": []
          },
          "execution_count": 16
        }
      ]
    },
    {
      "cell_type": "code",
      "metadata": {
        "id": "zcfTmdBfgeAd"
      },
      "source": [
        "assembler=VectorAssembler(inputCols= ['Session_Connection_Time',\n",
        "                                      'Bytes Transferred',\n",
        "                                      'Kali_Trace_Used',\n",
        "                                      'Servers_Corrupted',\n",
        "                                      'Pages_Corrupted',\n",
        "                                      'WPM_Typing_Speed'],outputCol=\"features\")"
      ],
      "execution_count": 17,
      "outputs": []
    },
    {
      "cell_type": "code",
      "metadata": {
        "id": "Apdc2XRkghwi"
      },
      "source": [
        "output=assembler.transform(data)"
      ],
      "execution_count": 18,
      "outputs": []
    },
    {
      "cell_type": "code",
      "metadata": {
        "id": "F-tNqYj8gjqr"
      },
      "source": [
        "final_data=output.select(\"features\")"
      ],
      "execution_count": 19,
      "outputs": []
    },
    {
      "cell_type": "code",
      "metadata": {
        "colab": {
          "base_uri": "https://localhost:8080/"
        },
        "id": "0zTiId02glRf",
        "outputId": "c9ad676a-5566-405f-ee9c-3941b0ea6e83"
      },
      "source": [
        "final_data.show()"
      ],
      "execution_count": 20,
      "outputs": [
        {
          "output_type": "stream",
          "text": [
            "+--------------------+\n",
            "|            features|\n",
            "+--------------------+\n",
            "|[8.0,391.09,1.0,2...|\n",
            "|[20.0,720.99,0.0,...|\n",
            "|[31.0,356.32,1.0,...|\n",
            "|[2.0,228.08,1.0,2...|\n",
            "|[20.0,408.5,0.0,3...|\n",
            "|[1.0,390.69,1.0,2...|\n",
            "|[18.0,342.97,1.0,...|\n",
            "|[22.0,101.61,1.0,...|\n",
            "|[15.0,275.53,1.0,...|\n",
            "|[12.0,424.83,1.0,...|\n",
            "|[15.0,249.09,1.0,...|\n",
            "|[32.0,242.48,0.0,...|\n",
            "|[23.0,514.54,0.0,...|\n",
            "|[9.0,284.77,0.0,3...|\n",
            "|[27.0,779.25,1.0,...|\n",
            "|[12.0,307.31,1.0,...|\n",
            "|[21.0,355.94,1.0,...|\n",
            "|[10.0,372.65,0.0,...|\n",
            "|[20.0,347.23,1.0,...|\n",
            "|[22.0,456.57,0.0,...|\n",
            "+--------------------+\n",
            "only showing top 20 rows\n",
            "\n"
          ],
          "name": "stdout"
        }
      ]
    },
    {
      "cell_type": "code",
      "metadata": {
        "id": "MuK_0u97grsn"
      },
      "source": [
        "def findBestKvalue(k,dt,fc):\n",
        "  kmeans=KMeans(featuresCol=fc).setK(k)\n",
        "  model=kmeans.fit(dt)\n",
        "  test=model.transform(dt)\n",
        "  evaluator=ClusteringEvaluator()\n",
        "  silhouette = evaluator.evaluate(test)\n",
        "  print(\"k = \"+ str(k) + \" --> \"+\"Silhouette with squared euclidean distance = \" + str(silhouette))\n"
      ],
      "execution_count": 21,
      "outputs": []
    },
    {
      "cell_type": "code",
      "metadata": {
        "colab": {
          "base_uri": "https://localhost:8080/"
        },
        "id": "huG3n7wahO0u",
        "outputId": "5995105f-1a43-4ddb-f969-6af68e6533a6"
      },
      "source": [
        "for i in range(2,4):\n",
        "  findBestKvalue(i,final_data,\"features\")"
      ],
      "execution_count": 27,
      "outputs": [
        {
          "output_type": "stream",
          "text": [
            "k = 2 --> Silhouette with squared euclidean distance = 0.8049295570472647\n",
            "k = 3 --> Silhouette with squared euclidean distance = 0.6924390056057199\n"
          ],
          "name": "stdout"
        }
      ]
    },
    {
      "cell_type": "code",
      "metadata": {
        "id": "OYhfy4yohQYF"
      },
      "source": [
        "from pyspark.ml.feature import StandardScaler"
      ],
      "execution_count": 28,
      "outputs": []
    },
    {
      "cell_type": "code",
      "metadata": {
        "id": "gg1M-rxvhXGG"
      },
      "source": [
        "scalar=StandardScaler(inputCol=\"features\",outputCol=\"scaledfeatures\")"
      ],
      "execution_count": 29,
      "outputs": []
    },
    {
      "cell_type": "code",
      "metadata": {
        "id": "TyaemQVehYmn"
      },
      "source": [
        "scaled_data=scalar.fit(final_data).transform(final_data)"
      ],
      "execution_count": 30,
      "outputs": []
    },
    {
      "cell_type": "code",
      "metadata": {
        "colab": {
          "base_uri": "https://localhost:8080/"
        },
        "id": "3tUteABlhaEt",
        "outputId": "d7fbbab5-11ef-4aff-b5a9-38d8c11e9135"
      },
      "source": [
        "#after scaled\n",
        "for i in range(2,4):\n",
        "  findBestKvalue(i,scaled_data,\"scaledfeatures\")"
      ],
      "execution_count": 31,
      "outputs": [
        {
          "output_type": "stream",
          "text": [
            "k = 2 --> Silhouette with squared euclidean distance = 0.6683623593283755\n",
            "k = 3 --> Silhouette with squared euclidean distance = 0.30412315937808737\n"
          ],
          "name": "stdout"
        }
      ]
    },
    {
      "cell_type": "code",
      "metadata": {
        "id": "2iswsF7Lhbjs"
      },
      "source": [
        "kmeans2=KMeans(featuresCol=\"features\").setK(2)\n",
        "model2=kmeans2.fit(scaled_data)\n",
        "test2=model2.transform(scaled_data)\n",
        "kmeans3=KMeans(featuresCol=\"features\").setK(3)\n",
        "model3=kmeans3.fit(scaled_data)\n",
        "test3=model3.transform(scaled_data)"
      ],
      "execution_count": 32,
      "outputs": []
    },
    {
      "cell_type": "code",
      "metadata": {
        "colab": {
          "base_uri": "https://localhost:8080/"
        },
        "id": "P7G-LpNuiUgr",
        "outputId": "a33a1017-a089-40c7-a19e-9c129bc6c8ca"
      },
      "source": [
        "test3.groupBy(\"prediction\").count().show()"
      ],
      "execution_count": 34,
      "outputs": [
        {
          "output_type": "stream",
          "text": [
            "+----------+-----+\n",
            "|prediction|count|\n",
            "+----------+-----+\n",
            "|         1|  144|\n",
            "|         2|   91|\n",
            "|         0|   99|\n",
            "+----------+-----+\n",
            "\n"
          ],
          "name": "stdout"
        }
      ]
    },
    {
      "cell_type": "code",
      "metadata": {
        "colab": {
          "base_uri": "https://localhost:8080/"
        },
        "id": "JyqK4I6vie1H",
        "outputId": "e975f9da-65c0-42a2-c64e-50ab92dc98c9"
      },
      "source": [
        "test2.groupBy(\"prediction\").count().show()"
      ],
      "execution_count": 35,
      "outputs": [
        {
          "output_type": "stream",
          "text": [
            "+----------+-----+\n",
            "|prediction|count|\n",
            "+----------+-----+\n",
            "|         1|  163|\n",
            "|         0|  171|\n",
            "+----------+-----+\n",
            "\n"
          ],
          "name": "stdout"
        }
      ]
    },
    {
      "cell_type": "code",
      "metadata": {
        "id": "rvdjINTfip2K"
      },
      "source": [
        ""
      ],
      "execution_count": null,
      "outputs": []
    }
  ]
}