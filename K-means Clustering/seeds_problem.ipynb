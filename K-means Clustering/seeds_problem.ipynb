{
  "nbformat": 4,
  "nbformat_minor": 0,
  "metadata": {
    "colab": {
      "name": "seeds problem.ipynb",
      "provenance": [],
      "collapsed_sections": []
    },
    "kernelspec": {
      "name": "python3",
      "display_name": "Python 3"
    },
    "language_info": {
      "name": "python"
    },
    "accelerator": "GPU"
  },
  "cells": [
    {
      "cell_type": "code",
      "metadata": {
        "colab": {
          "base_uri": "https://localhost:8080/"
        },
        "id": "mVPu0ZkvNi6y",
        "outputId": "4f0c2c1b-0856-40ad-d28b-cc82dea089dd"
      },
      "source": [
        "!pip install pyspark\n",
        "!pip install pyarrow\n",
        "!pip install -q findspark\n",
        "from pyspark.sql import SparkSession\n",
        "spark=SparkSession.builder.appName(\"cluster\").getOrCreate()"
      ],
      "execution_count": 1,
      "outputs": [
        {
          "output_type": "stream",
          "text": [
            "Requirement already satisfied: pyspark in /usr/local/lib/python3.7/dist-packages (3.1.2)\n",
            "Requirement already satisfied: py4j==0.10.9 in /usr/local/lib/python3.7/dist-packages (from pyspark) (0.10.9)\n",
            "Requirement already satisfied: pyarrow in /usr/local/lib/python3.7/dist-packages (3.0.0)\n",
            "Requirement already satisfied: numpy>=1.16.6 in /usr/local/lib/python3.7/dist-packages (from pyarrow) (1.19.5)\n"
          ],
          "name": "stdout"
        }
      ]
    },
    {
      "cell_type": "code",
      "metadata": {
        "id": "94xETGL6NjcX"
      },
      "source": [
        "data=spark.read.csv(\"/content/seeds_dataset.csv\",inferSchema=True,header=True)"
      ],
      "execution_count": 2,
      "outputs": []
    },
    {
      "cell_type": "code",
      "metadata": {
        "colab": {
          "base_uri": "https://localhost:8080/"
        },
        "id": "m5W5kC9FPUJf",
        "outputId": "8d7923fc-57dc-46f5-c927-e5f337430f06"
      },
      "source": [
        "data.printSchema()"
      ],
      "execution_count": 3,
      "outputs": [
        {
          "output_type": "stream",
          "text": [
            "root\n",
            " |-- area: double (nullable = true)\n",
            " |-- perimeter: double (nullable = true)\n",
            " |-- compactness: double (nullable = true)\n",
            " |-- length_of_kernel: double (nullable = true)\n",
            " |-- width_of_kernel: double (nullable = true)\n",
            " |-- asymmetry_coefficient: double (nullable = true)\n",
            " |-- length_of_groove: double (nullable = true)\n",
            "\n"
          ],
          "name": "stdout"
        }
      ]
    },
    {
      "cell_type": "code",
      "metadata": {
        "colab": {
          "base_uri": "https://localhost:8080/"
        },
        "id": "sXZfde1PPdXL",
        "outputId": "b56bc20b-f4a3-4ff9-c9c9-c5cddeb666fa"
      },
      "source": [
        "data.show()"
      ],
      "execution_count": 4,
      "outputs": [
        {
          "output_type": "stream",
          "text": [
            "+-----+---------+-----------+------------------+------------------+---------------------+------------------+\n",
            "| area|perimeter|compactness|  length_of_kernel|   width_of_kernel|asymmetry_coefficient|  length_of_groove|\n",
            "+-----+---------+-----------+------------------+------------------+---------------------+------------------+\n",
            "|15.26|    14.84|      0.871|             5.763|             3.312|                2.221|              5.22|\n",
            "|14.88|    14.57|     0.8811| 5.553999999999999|             3.333|                1.018|             4.956|\n",
            "|14.29|    14.09|      0.905|             5.291|3.3369999999999997|                2.699|             4.825|\n",
            "|13.84|    13.94|     0.8955|             5.324|3.3789999999999996|                2.259|             4.805|\n",
            "|16.14|    14.99|     0.9034|5.6579999999999995|             3.562|                1.355|             5.175|\n",
            "|14.38|    14.21|     0.8951|             5.386|             3.312|   2.4619999999999997|             4.956|\n",
            "|14.69|    14.49|     0.8799|             5.563|             3.259|   3.5860000000000003| 5.218999999999999|\n",
            "|14.11|     14.1|     0.8911|              5.42|             3.302|                  2.7|               5.0|\n",
            "|16.63|    15.46|     0.8747|             6.053|             3.465|                 2.04| 5.877000000000001|\n",
            "|16.44|    15.25|      0.888|5.8839999999999995|             3.505|                1.969|5.5329999999999995|\n",
            "|15.26|    14.85|     0.8696|5.7139999999999995|             3.242|                4.543|             5.314|\n",
            "|14.03|    14.16|     0.8796|             5.438|             3.201|   1.7169999999999999|             5.001|\n",
            "|13.89|    14.02|      0.888|             5.439|             3.199|                3.986|             4.738|\n",
            "|13.78|    14.06|     0.8759|             5.479|             3.156|                3.136|             4.872|\n",
            "|13.74|    14.05|     0.8744|             5.482|             3.114|                2.932|             4.825|\n",
            "|14.59|    14.28|     0.8993|             5.351|             3.333|                4.185| 4.781000000000001|\n",
            "|13.99|    13.83|     0.9183|             5.119|             3.383|                5.234| 4.781000000000001|\n",
            "|15.69|    14.75|     0.9058|             5.527|             3.514|                1.599|             5.046|\n",
            "| 14.7|    14.21|     0.9153|             5.205|             3.466|                1.767|             4.649|\n",
            "|12.72|    13.57|     0.8686|             5.226|             3.049|                4.102|             4.914|\n",
            "+-----+---------+-----------+------------------+------------------+---------------------+------------------+\n",
            "only showing top 20 rows\n",
            "\n"
          ],
          "name": "stdout"
        }
      ]
    },
    {
      "cell_type": "code",
      "metadata": {
        "id": "n1Gf5j5nPlDS"
      },
      "source": [
        "from pyspark.ml.clustering import KMeans\n",
        "from pyspark.ml.feature import VectorAssembler\n",
        "from pyspark.ml.evaluation import ClusteringEvaluator"
      ],
      "execution_count": 5,
      "outputs": []
    },
    {
      "cell_type": "code",
      "metadata": {
        "id": "WNG7EcsKP6Pe"
      },
      "source": [
        "assembler=VectorAssembler(inputCols=data.columns,outputCol=\"features\")"
      ],
      "execution_count": 6,
      "outputs": []
    },
    {
      "cell_type": "code",
      "metadata": {
        "id": "-9C7VXJeQMVy"
      },
      "source": [
        "output=assembler.transform(data)"
      ],
      "execution_count": 7,
      "outputs": []
    },
    {
      "cell_type": "code",
      "metadata": {
        "id": "PIOQDILBQWtG"
      },
      "source": [
        "final_data=output.select(\"features\")"
      ],
      "execution_count": 8,
      "outputs": []
    },
    {
      "cell_type": "code",
      "metadata": {
        "colab": {
          "base_uri": "https://localhost:8080/"
        },
        "id": "ho1BuRFgQaUH",
        "outputId": "c7750201-40b4-4ea4-f279-01ddaa93c5e8"
      },
      "source": [
        "final_data.show()"
      ],
      "execution_count": 9,
      "outputs": [
        {
          "output_type": "stream",
          "text": [
            "+--------------------+\n",
            "|            features|\n",
            "+--------------------+\n",
            "|[15.26,14.84,0.87...|\n",
            "|[14.88,14.57,0.88...|\n",
            "|[14.29,14.09,0.90...|\n",
            "|[13.84,13.94,0.89...|\n",
            "|[16.14,14.99,0.90...|\n",
            "|[14.38,14.21,0.89...|\n",
            "|[14.69,14.49,0.87...|\n",
            "|[14.11,14.1,0.891...|\n",
            "|[16.63,15.46,0.87...|\n",
            "|[16.44,15.25,0.88...|\n",
            "|[15.26,14.85,0.86...|\n",
            "|[14.03,14.16,0.87...|\n",
            "|[13.89,14.02,0.88...|\n",
            "|[13.78,14.06,0.87...|\n",
            "|[13.74,14.05,0.87...|\n",
            "|[14.59,14.28,0.89...|\n",
            "|[13.99,13.83,0.91...|\n",
            "|[15.69,14.75,0.90...|\n",
            "|[14.7,14.21,0.915...|\n",
            "|[12.72,13.57,0.86...|\n",
            "+--------------------+\n",
            "only showing top 20 rows\n",
            "\n"
          ],
          "name": "stdout"
        }
      ]
    },
    {
      "cell_type": "code",
      "metadata": {
        "id": "ZnFvgjQWQkCn"
      },
      "source": [
        "def findBestKvalue(k,dt,fc):\n",
        "  kmeans=KMeans(featuresCol=fc).setK(k)\n",
        "  model=kmeans.fit(dt)\n",
        "  test=model.transform(dt)\n",
        "  evaluator=ClusteringEvaluator()\n",
        "  silhouette = evaluator.evaluate(test)\n",
        "  print(\"k = \"+ str(k) + \" --> \"+\"Silhouette with squared euclidean distance = \" + str(silhouette))\n"
      ],
      "execution_count": 10,
      "outputs": []
    },
    {
      "cell_type": "code",
      "metadata": {
        "colab": {
          "base_uri": "https://localhost:8080/"
        },
        "id": "02j5EnFBRmSg",
        "outputId": "272ed0dc-cd65-492a-a915-0d23a713a072"
      },
      "source": [
        "for i in range(2,11):\n",
        "  findBestKvalue(i,final_data,\"features\")"
      ],
      "execution_count": 11,
      "outputs": [
        {
          "output_type": "stream",
          "text": [
            "k = 2 --> Silhouette with squared euclidean distance = 0.7107643222232611\n",
            "k = 3 --> Silhouette with squared euclidean distance = 0.6583884755012417\n",
            "k = 4 --> Silhouette with squared euclidean distance = 0.5883232624783482\n",
            "k = 5 --> Silhouette with squared euclidean distance = 0.5094235292838772\n",
            "k = 6 --> Silhouette with squared euclidean distance = 0.47882367461145425\n",
            "k = 7 --> Silhouette with squared euclidean distance = 0.521117593890403\n",
            "k = 8 --> Silhouette with squared euclidean distance = 0.4953765139129011\n",
            "k = 9 --> Silhouette with squared euclidean distance = 0.5108553824163148\n",
            "k = 10 --> Silhouette with squared euclidean distance = 0.4883863926302419\n"
          ],
          "name": "stdout"
        }
      ]
    },
    {
      "cell_type": "code",
      "metadata": {
        "id": "IWl31qBFR9BA"
      },
      "source": [
        "from pyspark.ml.feature import StandardScaler"
      ],
      "execution_count": 12,
      "outputs": []
    },
    {
      "cell_type": "code",
      "metadata": {
        "id": "t-INzwv1SYUD"
      },
      "source": [
        "scalar=StandardScaler(inputCol=\"features\",outputCol=\"scaledfeatures\")"
      ],
      "execution_count": 13,
      "outputs": []
    },
    {
      "cell_type": "code",
      "metadata": {
        "id": "nun1DZhuSd9Z"
      },
      "source": [
        "scaled_data=scalar.fit(final_data).transform(final_data)"
      ],
      "execution_count": 14,
      "outputs": []
    },
    {
      "cell_type": "code",
      "metadata": {
        "colab": {
          "base_uri": "https://localhost:8080/"
        },
        "id": "gZ0RlFqVSh0M",
        "outputId": "d486e0c8-1337-4c5f-af19-a16af03977c0"
      },
      "source": [
        "scaled_data.show()"
      ],
      "execution_count": 15,
      "outputs": [
        {
          "output_type": "stream",
          "text": [
            "+--------------------+--------------------+\n",
            "|            features|      scaledfeatures|\n",
            "+--------------------+--------------------+\n",
            "|[15.26,14.84,0.87...|[5.24452795332028...|\n",
            "|[14.88,14.57,0.88...|[5.11393027165175...|\n",
            "|[14.29,14.09,0.90...|[4.91116018695588...|\n",
            "|[13.84,13.94,0.89...|[4.75650503761158...|\n",
            "|[16.14,14.99,0.90...|[5.54696468981581...|\n",
            "|[14.38,14.21,0.89...|[4.94209121682475...|\n",
            "|[14.69,14.49,0.87...|[5.04863143081749...|\n",
            "|[14.11,14.1,0.891...|[4.84929812721816...|\n",
            "|[16.63,15.46,0.87...|[5.71536696354628...|\n",
            "|[16.44,15.25,0.88...|[5.65006812271202...|\n",
            "|[15.26,14.85,0.86...|[5.24452795332028...|\n",
            "|[14.03,14.16,0.87...|[4.82180387844584...|\n",
            "|[13.89,14.02,0.88...|[4.77368894309428...|\n",
            "|[13.78,14.06,0.87...|[4.73588435103234...|\n",
            "|[13.74,14.05,0.87...|[4.72213722664617...|\n",
            "|[14.59,14.28,0.89...|[5.01426361985209...|\n",
            "|[13.99,13.83,0.91...|[4.80805675405968...|\n",
            "|[15.69,14.75,0.90...|[5.39230954047151...|\n",
            "|[14.7,14.21,0.915...|[5.05206821191403...|\n",
            "|[12.72,13.57,0.86...|[4.37158555479908...|\n",
            "+--------------------+--------------------+\n",
            "only showing top 20 rows\n",
            "\n"
          ],
          "name": "stdout"
        }
      ]
    },
    {
      "cell_type": "code",
      "metadata": {
        "colab": {
          "base_uri": "https://localhost:8080/"
        },
        "id": "PAORLfxRSoPd",
        "outputId": "542a8b0c-21fc-40e4-d8fa-d1f1f4bce1b1"
      },
      "source": [
        "#after scaled\n",
        "for i in range(2,11):\n",
        "  findBestKvalue(i,scaled_data,\"scaledfeatures\")"
      ],
      "execution_count": 16,
      "outputs": [
        {
          "output_type": "stream",
          "text": [
            "k = 2 --> Silhouette with squared euclidean distance = 0.709845635070088\n",
            "k = 3 --> Silhouette with squared euclidean distance = 0.6300001033389961\n",
            "k = 4 --> Silhouette with squared euclidean distance = 0.4468230108282874\n",
            "k = 5 --> Silhouette with squared euclidean distance = 0.34803991948020657\n",
            "k = 6 --> Silhouette with squared euclidean distance = 0.3449139587798853\n",
            "k = 7 --> Silhouette with squared euclidean distance = 0.24680354845004945\n",
            "k = 8 --> Silhouette with squared euclidean distance = 0.23082516186861857\n",
            "k = 9 --> Silhouette with squared euclidean distance = 0.17218686711111328\n",
            "k = 10 --> Silhouette with squared euclidean distance = 0.25702587974284263\n"
          ],
          "name": "stdout"
        }
      ]
    },
    {
      "cell_type": "code",
      "metadata": {
        "id": "FUpywz38SuiV"
      },
      "source": [
        ""
      ],
      "execution_count": 16,
      "outputs": []
    }
  ]
}